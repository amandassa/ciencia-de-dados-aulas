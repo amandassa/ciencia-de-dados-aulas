{
  "nbformat": 4,
  "nbformat_minor": 0,
  "metadata": {
    "colab": {
      "provenance": [],
      "include_colab_link": true
    },
    "kernelspec": {
      "name": "python3",
      "display_name": "Python 3"
    },
    "language_info": {
      "name": "python"
    }
  },
  "cells": [
    {
      "cell_type": "markdown",
      "metadata": {
        "id": "view-in-github",
        "colab_type": "text"
      },
      "source": [
        "<a href=\"https://colab.research.google.com/github/amandassa/ciencia-de-dados-aulas/blob/main/Regressao.ipynb\" target=\"_parent\"><img src=\"https://colab.research.google.com/assets/colab-badge.svg\" alt=\"Open In Colab\"/></a>"
      ]
    },
    {
      "cell_type": "markdown",
      "source": [
        "#Imports de Bibliotecas"
      ],
      "metadata": {
        "id": "XfHp1tPUq1fv"
      }
    },
    {
      "cell_type": "code",
      "execution_count": 2,
      "metadata": {
        "id": "8gn6TTaLqtk_"
      },
      "outputs": [],
      "source": [
        "\n",
        "import numpy as np\n",
        "import pandas as pd\n",
        "import seaborn as sns\n",
        "import plotly.express as px\n",
        "import matplotlib.pyplot as plt\n",
        "import plotly.graph_objects as go\n",
        "\n",
        "from sklearn.model_selection import train_test_split\n",
        "from sklearn.metrics import mean_absolute_error, mean_squared_error, r2_score"
      ]
    },
    {
      "cell_type": "markdown",
      "source": [
        "#Base de Dados"
      ],
      "metadata": {
        "id": "XlhhC-pEq9EB"
      }
    },
    {
      "cell_type": "code",
      "source": [
        "caso1 = { 'preco': [38, 42, 50, 56, 59, 63, 70, 80, 95, 110],\n",
        "         'demanda': [350, 325, 297, 270, 256, 246, 238, 223, 215, 208]}\n",
        "\n",
        "df_estudo_1 = pd.DataFrame(caso1)\n",
        "\n",
        "df_estudo_1.sample()\n"
      ],
      "metadata": {
        "id": "-YgcKEAbq0Ts",
        "outputId": "95a5475d-872b-43a5-d142-456639837a43",
        "colab": {
          "base_uri": "https://localhost:8080/",
          "height": 81
        }
      },
      "execution_count": 3,
      "outputs": [
        {
          "output_type": "execute_result",
          "data": {
            "text/plain": [
              "   preco  demanda\n",
              "9    110      208"
            ],
            "text/html": [
              "\n",
              "  <div id=\"df-5668d8b4-410b-4d2c-9ff1-55ffa5464d2f\" class=\"colab-df-container\">\n",
              "    <div>\n",
              "<style scoped>\n",
              "    .dataframe tbody tr th:only-of-type {\n",
              "        vertical-align: middle;\n",
              "    }\n",
              "\n",
              "    .dataframe tbody tr th {\n",
              "        vertical-align: top;\n",
              "    }\n",
              "\n",
              "    .dataframe thead th {\n",
              "        text-align: right;\n",
              "    }\n",
              "</style>\n",
              "<table border=\"1\" class=\"dataframe\">\n",
              "  <thead>\n",
              "    <tr style=\"text-align: right;\">\n",
              "      <th></th>\n",
              "      <th>preco</th>\n",
              "      <th>demanda</th>\n",
              "    </tr>\n",
              "  </thead>\n",
              "  <tbody>\n",
              "    <tr>\n",
              "      <th>9</th>\n",
              "      <td>110</td>\n",
              "      <td>208</td>\n",
              "    </tr>\n",
              "  </tbody>\n",
              "</table>\n",
              "</div>\n",
              "    <div class=\"colab-df-buttons\">\n",
              "\n",
              "  <div class=\"colab-df-container\">\n",
              "    <button class=\"colab-df-convert\" onclick=\"convertToInteractive('df-5668d8b4-410b-4d2c-9ff1-55ffa5464d2f')\"\n",
              "            title=\"Convert this dataframe to an interactive table.\"\n",
              "            style=\"display:none;\">\n",
              "\n",
              "  <svg xmlns=\"http://www.w3.org/2000/svg\" height=\"24px\" viewBox=\"0 -960 960 960\">\n",
              "    <path d=\"M120-120v-720h720v720H120Zm60-500h600v-160H180v160Zm220 220h160v-160H400v160Zm0 220h160v-160H400v160ZM180-400h160v-160H180v160Zm440 0h160v-160H620v160ZM180-180h160v-160H180v160Zm440 0h160v-160H620v160Z\"/>\n",
              "  </svg>\n",
              "    </button>\n",
              "\n",
              "  <style>\n",
              "    .colab-df-container {\n",
              "      display:flex;\n",
              "      gap: 12px;\n",
              "    }\n",
              "\n",
              "    .colab-df-convert {\n",
              "      background-color: #E8F0FE;\n",
              "      border: none;\n",
              "      border-radius: 50%;\n",
              "      cursor: pointer;\n",
              "      display: none;\n",
              "      fill: #1967D2;\n",
              "      height: 32px;\n",
              "      padding: 0 0 0 0;\n",
              "      width: 32px;\n",
              "    }\n",
              "\n",
              "    .colab-df-convert:hover {\n",
              "      background-color: #E2EBFA;\n",
              "      box-shadow: 0px 1px 2px rgba(60, 64, 67, 0.3), 0px 1px 3px 1px rgba(60, 64, 67, 0.15);\n",
              "      fill: #174EA6;\n",
              "    }\n",
              "\n",
              "    .colab-df-buttons div {\n",
              "      margin-bottom: 4px;\n",
              "    }\n",
              "\n",
              "    [theme=dark] .colab-df-convert {\n",
              "      background-color: #3B4455;\n",
              "      fill: #D2E3FC;\n",
              "    }\n",
              "\n",
              "    [theme=dark] .colab-df-convert:hover {\n",
              "      background-color: #434B5C;\n",
              "      box-shadow: 0px 1px 3px 1px rgba(0, 0, 0, 0.15);\n",
              "      filter: drop-shadow(0px 1px 2px rgba(0, 0, 0, 0.3));\n",
              "      fill: #FFFFFF;\n",
              "    }\n",
              "  </style>\n",
              "\n",
              "    <script>\n",
              "      const buttonEl =\n",
              "        document.querySelector('#df-5668d8b4-410b-4d2c-9ff1-55ffa5464d2f button.colab-df-convert');\n",
              "      buttonEl.style.display =\n",
              "        google.colab.kernel.accessAllowed ? 'block' : 'none';\n",
              "\n",
              "      async function convertToInteractive(key) {\n",
              "        const element = document.querySelector('#df-5668d8b4-410b-4d2c-9ff1-55ffa5464d2f');\n",
              "        const dataTable =\n",
              "          await google.colab.kernel.invokeFunction('convertToInteractive',\n",
              "                                                    [key], {});\n",
              "        if (!dataTable) return;\n",
              "\n",
              "        const docLinkHtml = 'Like what you see? Visit the ' +\n",
              "          '<a target=\"_blank\" href=https://colab.research.google.com/notebooks/data_table.ipynb>data table notebook</a>'\n",
              "          + ' to learn more about interactive tables.';\n",
              "        element.innerHTML = '';\n",
              "        dataTable['output_type'] = 'display_data';\n",
              "        await google.colab.output.renderOutput(dataTable, element);\n",
              "        const docLink = document.createElement('div');\n",
              "        docLink.innerHTML = docLinkHtml;\n",
              "        element.appendChild(docLink);\n",
              "      }\n",
              "    </script>\n",
              "  </div>\n",
              "\n",
              "\n",
              "    </div>\n",
              "  </div>\n"
            ],
            "application/vnd.google.colaboratory.intrinsic+json": {
              "type": "dataframe",
              "summary": "{\n  \"name\": \"df_estudo_1\",\n  \"rows\": 1,\n  \"fields\": [\n    {\n      \"column\": \"preco\",\n      \"properties\": {\n        \"dtype\": \"number\",\n        \"std\": null,\n        \"min\": 110,\n        \"max\": 110,\n        \"num_unique_values\": 1,\n        \"samples\": [\n          110\n        ],\n        \"semantic_type\": \"\",\n        \"description\": \"\"\n      }\n    },\n    {\n      \"column\": \"demanda\",\n      \"properties\": {\n        \"dtype\": \"number\",\n        \"std\": null,\n        \"min\": 208,\n        \"max\": 208,\n        \"num_unique_values\": 1,\n        \"samples\": [\n          208\n        ],\n        \"semantic_type\": \"\",\n        \"description\": \"\"\n      }\n    }\n  ]\n}"
            }
          },
          "metadata": {},
          "execution_count": 3
        }
      ]
    },
    {
      "cell_type": "code",
      "source": [
        "caso2 = {'preco': [38, 42, 50, 56, 59, 63, 70, 80, 95, 110],\n",
        "         'demanda': [350, 325, 297, 270, 256, 246, 238, 223, 215, 208],\n",
        "         'Publicidade': [100, 120, 80, 90, 110, 95, 70, 85, 75, 60],\n",
        "         'Competidores': [5, 4, 6, 3, 5, 4, 6, 3, 4, 5]}\n",
        "\n",
        "df_estudo_2 = pd.DataFrame(caso2)\n",
        "\n",
        "df_estudo_2.sample()\n"
      ],
      "metadata": {
        "id": "4XbvyH_szJmh",
        "outputId": "00e90c92-3e62-40c7-b2bf-e87139dfc56d",
        "colab": {
          "base_uri": "https://localhost:8080/",
          "height": 81
        }
      },
      "execution_count": 4,
      "outputs": [
        {
          "output_type": "execute_result",
          "data": {
            "text/plain": [
              "   preco  demanda  Publicidade  Competidores\n",
              "2     50      297           80             6"
            ],
            "text/html": [
              "\n",
              "  <div id=\"df-d1ec796b-0921-41bd-9592-1bc518dd6588\" class=\"colab-df-container\">\n",
              "    <div>\n",
              "<style scoped>\n",
              "    .dataframe tbody tr th:only-of-type {\n",
              "        vertical-align: middle;\n",
              "    }\n",
              "\n",
              "    .dataframe tbody tr th {\n",
              "        vertical-align: top;\n",
              "    }\n",
              "\n",
              "    .dataframe thead th {\n",
              "        text-align: right;\n",
              "    }\n",
              "</style>\n",
              "<table border=\"1\" class=\"dataframe\">\n",
              "  <thead>\n",
              "    <tr style=\"text-align: right;\">\n",
              "      <th></th>\n",
              "      <th>preco</th>\n",
              "      <th>demanda</th>\n",
              "      <th>Publicidade</th>\n",
              "      <th>Competidores</th>\n",
              "    </tr>\n",
              "  </thead>\n",
              "  <tbody>\n",
              "    <tr>\n",
              "      <th>2</th>\n",
              "      <td>50</td>\n",
              "      <td>297</td>\n",
              "      <td>80</td>\n",
              "      <td>6</td>\n",
              "    </tr>\n",
              "  </tbody>\n",
              "</table>\n",
              "</div>\n",
              "    <div class=\"colab-df-buttons\">\n",
              "\n",
              "  <div class=\"colab-df-container\">\n",
              "    <button class=\"colab-df-convert\" onclick=\"convertToInteractive('df-d1ec796b-0921-41bd-9592-1bc518dd6588')\"\n",
              "            title=\"Convert this dataframe to an interactive table.\"\n",
              "            style=\"display:none;\">\n",
              "\n",
              "  <svg xmlns=\"http://www.w3.org/2000/svg\" height=\"24px\" viewBox=\"0 -960 960 960\">\n",
              "    <path d=\"M120-120v-720h720v720H120Zm60-500h600v-160H180v160Zm220 220h160v-160H400v160Zm0 220h160v-160H400v160ZM180-400h160v-160H180v160Zm440 0h160v-160H620v160ZM180-180h160v-160H180v160Zm440 0h160v-160H620v160Z\"/>\n",
              "  </svg>\n",
              "    </button>\n",
              "\n",
              "  <style>\n",
              "    .colab-df-container {\n",
              "      display:flex;\n",
              "      gap: 12px;\n",
              "    }\n",
              "\n",
              "    .colab-df-convert {\n",
              "      background-color: #E8F0FE;\n",
              "      border: none;\n",
              "      border-radius: 50%;\n",
              "      cursor: pointer;\n",
              "      display: none;\n",
              "      fill: #1967D2;\n",
              "      height: 32px;\n",
              "      padding: 0 0 0 0;\n",
              "      width: 32px;\n",
              "    }\n",
              "\n",
              "    .colab-df-convert:hover {\n",
              "      background-color: #E2EBFA;\n",
              "      box-shadow: 0px 1px 2px rgba(60, 64, 67, 0.3), 0px 1px 3px 1px rgba(60, 64, 67, 0.15);\n",
              "      fill: #174EA6;\n",
              "    }\n",
              "\n",
              "    .colab-df-buttons div {\n",
              "      margin-bottom: 4px;\n",
              "    }\n",
              "\n",
              "    [theme=dark] .colab-df-convert {\n",
              "      background-color: #3B4455;\n",
              "      fill: #D2E3FC;\n",
              "    }\n",
              "\n",
              "    [theme=dark] .colab-df-convert:hover {\n",
              "      background-color: #434B5C;\n",
              "      box-shadow: 0px 1px 3px 1px rgba(0, 0, 0, 0.15);\n",
              "      filter: drop-shadow(0px 1px 2px rgba(0, 0, 0, 0.3));\n",
              "      fill: #FFFFFF;\n",
              "    }\n",
              "  </style>\n",
              "\n",
              "    <script>\n",
              "      const buttonEl =\n",
              "        document.querySelector('#df-d1ec796b-0921-41bd-9592-1bc518dd6588 button.colab-df-convert');\n",
              "      buttonEl.style.display =\n",
              "        google.colab.kernel.accessAllowed ? 'block' : 'none';\n",
              "\n",
              "      async function convertToInteractive(key) {\n",
              "        const element = document.querySelector('#df-d1ec796b-0921-41bd-9592-1bc518dd6588');\n",
              "        const dataTable =\n",
              "          await google.colab.kernel.invokeFunction('convertToInteractive',\n",
              "                                                    [key], {});\n",
              "        if (!dataTable) return;\n",
              "\n",
              "        const docLinkHtml = 'Like what you see? Visit the ' +\n",
              "          '<a target=\"_blank\" href=https://colab.research.google.com/notebooks/data_table.ipynb>data table notebook</a>'\n",
              "          + ' to learn more about interactive tables.';\n",
              "        element.innerHTML = '';\n",
              "        dataTable['output_type'] = 'display_data';\n",
              "        await google.colab.output.renderOutput(dataTable, element);\n",
              "        const docLink = document.createElement('div');\n",
              "        docLink.innerHTML = docLinkHtml;\n",
              "        element.appendChild(docLink);\n",
              "      }\n",
              "    </script>\n",
              "  </div>\n",
              "\n",
              "\n",
              "    </div>\n",
              "  </div>\n"
            ],
            "application/vnd.google.colaboratory.intrinsic+json": {
              "type": "dataframe",
              "summary": "{\n  \"name\": \"df_estudo_2\",\n  \"rows\": 1,\n  \"fields\": [\n    {\n      \"column\": \"preco\",\n      \"properties\": {\n        \"dtype\": \"number\",\n        \"std\": null,\n        \"min\": 50,\n        \"max\": 50,\n        \"num_unique_values\": 1,\n        \"samples\": [\n          50\n        ],\n        \"semantic_type\": \"\",\n        \"description\": \"\"\n      }\n    },\n    {\n      \"column\": \"demanda\",\n      \"properties\": {\n        \"dtype\": \"number\",\n        \"std\": null,\n        \"min\": 297,\n        \"max\": 297,\n        \"num_unique_values\": 1,\n        \"samples\": [\n          297\n        ],\n        \"semantic_type\": \"\",\n        \"description\": \"\"\n      }\n    },\n    {\n      \"column\": \"Publicidade\",\n      \"properties\": {\n        \"dtype\": \"number\",\n        \"std\": null,\n        \"min\": 80,\n        \"max\": 80,\n        \"num_unique_values\": 1,\n        \"samples\": [\n          80\n        ],\n        \"semantic_type\": \"\",\n        \"description\": \"\"\n      }\n    },\n    {\n      \"column\": \"Competidores\",\n      \"properties\": {\n        \"dtype\": \"number\",\n        \"std\": null,\n        \"min\": 6,\n        \"max\": 6,\n        \"num_unique_values\": 1,\n        \"samples\": [\n          6\n        ],\n        \"semantic_type\": \"\",\n        \"description\": \"\"\n      }\n    }\n  ]\n}"
            }
          },
          "metadata": {},
          "execution_count": 4
        }
      ]
    },
    {
      "cell_type": "markdown",
      "source": [
        "#Estudo de Caso 1"
      ],
      "metadata": {
        "id": "ZneyBQ8eubjB"
      }
    },
    {
      "cell_type": "markdown",
      "source": [
        "## Gráfico de Dispersão"
      ],
      "metadata": {
        "id": "seqvTn1Qslrc"
      }
    },
    {
      "cell_type": "code",
      "source": [
        "df_estudo_1"
      ],
      "metadata": {
        "id": "ac9vP8OjWIhe",
        "outputId": "0e9bbbdf-2905-46a0-9367-78fc10b0929b",
        "colab": {
          "base_uri": "https://localhost:8080/",
          "height": 363
        }
      },
      "execution_count": 5,
      "outputs": [
        {
          "output_type": "execute_result",
          "data": {
            "text/plain": [
              "   preco  demanda\n",
              "0     38      350\n",
              "1     42      325\n",
              "2     50      297\n",
              "3     56      270\n",
              "4     59      256\n",
              "5     63      246\n",
              "6     70      238\n",
              "7     80      223\n",
              "8     95      215\n",
              "9    110      208"
            ],
            "text/html": [
              "\n",
              "  <div id=\"df-b272c645-b222-4dde-a59a-ce66f090f99d\" class=\"colab-df-container\">\n",
              "    <div>\n",
              "<style scoped>\n",
              "    .dataframe tbody tr th:only-of-type {\n",
              "        vertical-align: middle;\n",
              "    }\n",
              "\n",
              "    .dataframe tbody tr th {\n",
              "        vertical-align: top;\n",
              "    }\n",
              "\n",
              "    .dataframe thead th {\n",
              "        text-align: right;\n",
              "    }\n",
              "</style>\n",
              "<table border=\"1\" class=\"dataframe\">\n",
              "  <thead>\n",
              "    <tr style=\"text-align: right;\">\n",
              "      <th></th>\n",
              "      <th>preco</th>\n",
              "      <th>demanda</th>\n",
              "    </tr>\n",
              "  </thead>\n",
              "  <tbody>\n",
              "    <tr>\n",
              "      <th>0</th>\n",
              "      <td>38</td>\n",
              "      <td>350</td>\n",
              "    </tr>\n",
              "    <tr>\n",
              "      <th>1</th>\n",
              "      <td>42</td>\n",
              "      <td>325</td>\n",
              "    </tr>\n",
              "    <tr>\n",
              "      <th>2</th>\n",
              "      <td>50</td>\n",
              "      <td>297</td>\n",
              "    </tr>\n",
              "    <tr>\n",
              "      <th>3</th>\n",
              "      <td>56</td>\n",
              "      <td>270</td>\n",
              "    </tr>\n",
              "    <tr>\n",
              "      <th>4</th>\n",
              "      <td>59</td>\n",
              "      <td>256</td>\n",
              "    </tr>\n",
              "    <tr>\n",
              "      <th>5</th>\n",
              "      <td>63</td>\n",
              "      <td>246</td>\n",
              "    </tr>\n",
              "    <tr>\n",
              "      <th>6</th>\n",
              "      <td>70</td>\n",
              "      <td>238</td>\n",
              "    </tr>\n",
              "    <tr>\n",
              "      <th>7</th>\n",
              "      <td>80</td>\n",
              "      <td>223</td>\n",
              "    </tr>\n",
              "    <tr>\n",
              "      <th>8</th>\n",
              "      <td>95</td>\n",
              "      <td>215</td>\n",
              "    </tr>\n",
              "    <tr>\n",
              "      <th>9</th>\n",
              "      <td>110</td>\n",
              "      <td>208</td>\n",
              "    </tr>\n",
              "  </tbody>\n",
              "</table>\n",
              "</div>\n",
              "    <div class=\"colab-df-buttons\">\n",
              "\n",
              "  <div class=\"colab-df-container\">\n",
              "    <button class=\"colab-df-convert\" onclick=\"convertToInteractive('df-b272c645-b222-4dde-a59a-ce66f090f99d')\"\n",
              "            title=\"Convert this dataframe to an interactive table.\"\n",
              "            style=\"display:none;\">\n",
              "\n",
              "  <svg xmlns=\"http://www.w3.org/2000/svg\" height=\"24px\" viewBox=\"0 -960 960 960\">\n",
              "    <path d=\"M120-120v-720h720v720H120Zm60-500h600v-160H180v160Zm220 220h160v-160H400v160Zm0 220h160v-160H400v160ZM180-400h160v-160H180v160Zm440 0h160v-160H620v160ZM180-180h160v-160H180v160Zm440 0h160v-160H620v160Z\"/>\n",
              "  </svg>\n",
              "    </button>\n",
              "\n",
              "  <style>\n",
              "    .colab-df-container {\n",
              "      display:flex;\n",
              "      gap: 12px;\n",
              "    }\n",
              "\n",
              "    .colab-df-convert {\n",
              "      background-color: #E8F0FE;\n",
              "      border: none;\n",
              "      border-radius: 50%;\n",
              "      cursor: pointer;\n",
              "      display: none;\n",
              "      fill: #1967D2;\n",
              "      height: 32px;\n",
              "      padding: 0 0 0 0;\n",
              "      width: 32px;\n",
              "    }\n",
              "\n",
              "    .colab-df-convert:hover {\n",
              "      background-color: #E2EBFA;\n",
              "      box-shadow: 0px 1px 2px rgba(60, 64, 67, 0.3), 0px 1px 3px 1px rgba(60, 64, 67, 0.15);\n",
              "      fill: #174EA6;\n",
              "    }\n",
              "\n",
              "    .colab-df-buttons div {\n",
              "      margin-bottom: 4px;\n",
              "    }\n",
              "\n",
              "    [theme=dark] .colab-df-convert {\n",
              "      background-color: #3B4455;\n",
              "      fill: #D2E3FC;\n",
              "    }\n",
              "\n",
              "    [theme=dark] .colab-df-convert:hover {\n",
              "      background-color: #434B5C;\n",
              "      box-shadow: 0px 1px 3px 1px rgba(0, 0, 0, 0.15);\n",
              "      filter: drop-shadow(0px 1px 2px rgba(0, 0, 0, 0.3));\n",
              "      fill: #FFFFFF;\n",
              "    }\n",
              "  </style>\n",
              "\n",
              "    <script>\n",
              "      const buttonEl =\n",
              "        document.querySelector('#df-b272c645-b222-4dde-a59a-ce66f090f99d button.colab-df-convert');\n",
              "      buttonEl.style.display =\n",
              "        google.colab.kernel.accessAllowed ? 'block' : 'none';\n",
              "\n",
              "      async function convertToInteractive(key) {\n",
              "        const element = document.querySelector('#df-b272c645-b222-4dde-a59a-ce66f090f99d');\n",
              "        const dataTable =\n",
              "          await google.colab.kernel.invokeFunction('convertToInteractive',\n",
              "                                                    [key], {});\n",
              "        if (!dataTable) return;\n",
              "\n",
              "        const docLinkHtml = 'Like what you see? Visit the ' +\n",
              "          '<a target=\"_blank\" href=https://colab.research.google.com/notebooks/data_table.ipynb>data table notebook</a>'\n",
              "          + ' to learn more about interactive tables.';\n",
              "        element.innerHTML = '';\n",
              "        dataTable['output_type'] = 'display_data';\n",
              "        await google.colab.output.renderOutput(dataTable, element);\n",
              "        const docLink = document.createElement('div');\n",
              "        docLink.innerHTML = docLinkHtml;\n",
              "        element.appendChild(docLink);\n",
              "      }\n",
              "    </script>\n",
              "  </div>\n",
              "\n",
              "\n",
              "<div id=\"df-5f68e14a-c094-4b38-b952-a1a2c8672d2d\">\n",
              "  <button class=\"colab-df-quickchart\" onclick=\"quickchart('df-5f68e14a-c094-4b38-b952-a1a2c8672d2d')\"\n",
              "            title=\"Suggest charts\"\n",
              "            style=\"display:none;\">\n",
              "\n",
              "<svg xmlns=\"http://www.w3.org/2000/svg\" height=\"24px\"viewBox=\"0 0 24 24\"\n",
              "     width=\"24px\">\n",
              "    <g>\n",
              "        <path d=\"M19 3H5c-1.1 0-2 .9-2 2v14c0 1.1.9 2 2 2h14c1.1 0 2-.9 2-2V5c0-1.1-.9-2-2-2zM9 17H7v-7h2v7zm4 0h-2V7h2v10zm4 0h-2v-4h2v4z\"/>\n",
              "    </g>\n",
              "</svg>\n",
              "  </button>\n",
              "\n",
              "<style>\n",
              "  .colab-df-quickchart {\n",
              "      --bg-color: #E8F0FE;\n",
              "      --fill-color: #1967D2;\n",
              "      --hover-bg-color: #E2EBFA;\n",
              "      --hover-fill-color: #174EA6;\n",
              "      --disabled-fill-color: #AAA;\n",
              "      --disabled-bg-color: #DDD;\n",
              "  }\n",
              "\n",
              "  [theme=dark] .colab-df-quickchart {\n",
              "      --bg-color: #3B4455;\n",
              "      --fill-color: #D2E3FC;\n",
              "      --hover-bg-color: #434B5C;\n",
              "      --hover-fill-color: #FFFFFF;\n",
              "      --disabled-bg-color: #3B4455;\n",
              "      --disabled-fill-color: #666;\n",
              "  }\n",
              "\n",
              "  .colab-df-quickchart {\n",
              "    background-color: var(--bg-color);\n",
              "    border: none;\n",
              "    border-radius: 50%;\n",
              "    cursor: pointer;\n",
              "    display: none;\n",
              "    fill: var(--fill-color);\n",
              "    height: 32px;\n",
              "    padding: 0;\n",
              "    width: 32px;\n",
              "  }\n",
              "\n",
              "  .colab-df-quickchart:hover {\n",
              "    background-color: var(--hover-bg-color);\n",
              "    box-shadow: 0 1px 2px rgba(60, 64, 67, 0.3), 0 1px 3px 1px rgba(60, 64, 67, 0.15);\n",
              "    fill: var(--button-hover-fill-color);\n",
              "  }\n",
              "\n",
              "  .colab-df-quickchart-complete:disabled,\n",
              "  .colab-df-quickchart-complete:disabled:hover {\n",
              "    background-color: var(--disabled-bg-color);\n",
              "    fill: var(--disabled-fill-color);\n",
              "    box-shadow: none;\n",
              "  }\n",
              "\n",
              "  .colab-df-spinner {\n",
              "    border: 2px solid var(--fill-color);\n",
              "    border-color: transparent;\n",
              "    border-bottom-color: var(--fill-color);\n",
              "    animation:\n",
              "      spin 1s steps(1) infinite;\n",
              "  }\n",
              "\n",
              "  @keyframes spin {\n",
              "    0% {\n",
              "      border-color: transparent;\n",
              "      border-bottom-color: var(--fill-color);\n",
              "      border-left-color: var(--fill-color);\n",
              "    }\n",
              "    20% {\n",
              "      border-color: transparent;\n",
              "      border-left-color: var(--fill-color);\n",
              "      border-top-color: var(--fill-color);\n",
              "    }\n",
              "    30% {\n",
              "      border-color: transparent;\n",
              "      border-left-color: var(--fill-color);\n",
              "      border-top-color: var(--fill-color);\n",
              "      border-right-color: var(--fill-color);\n",
              "    }\n",
              "    40% {\n",
              "      border-color: transparent;\n",
              "      border-right-color: var(--fill-color);\n",
              "      border-top-color: var(--fill-color);\n",
              "    }\n",
              "    60% {\n",
              "      border-color: transparent;\n",
              "      border-right-color: var(--fill-color);\n",
              "    }\n",
              "    80% {\n",
              "      border-color: transparent;\n",
              "      border-right-color: var(--fill-color);\n",
              "      border-bottom-color: var(--fill-color);\n",
              "    }\n",
              "    90% {\n",
              "      border-color: transparent;\n",
              "      border-bottom-color: var(--fill-color);\n",
              "    }\n",
              "  }\n",
              "</style>\n",
              "\n",
              "  <script>\n",
              "    async function quickchart(key) {\n",
              "      const quickchartButtonEl =\n",
              "        document.querySelector('#' + key + ' button');\n",
              "      quickchartButtonEl.disabled = true;  // To prevent multiple clicks.\n",
              "      quickchartButtonEl.classList.add('colab-df-spinner');\n",
              "      try {\n",
              "        const charts = await google.colab.kernel.invokeFunction(\n",
              "            'suggestCharts', [key], {});\n",
              "      } catch (error) {\n",
              "        console.error('Error during call to suggestCharts:', error);\n",
              "      }\n",
              "      quickchartButtonEl.classList.remove('colab-df-spinner');\n",
              "      quickchartButtonEl.classList.add('colab-df-quickchart-complete');\n",
              "    }\n",
              "    (() => {\n",
              "      let quickchartButtonEl =\n",
              "        document.querySelector('#df-5f68e14a-c094-4b38-b952-a1a2c8672d2d button');\n",
              "      quickchartButtonEl.style.display =\n",
              "        google.colab.kernel.accessAllowed ? 'block' : 'none';\n",
              "    })();\n",
              "  </script>\n",
              "</div>\n",
              "\n",
              "  <div id=\"id_b6e7c4d2-6b9f-4521-933f-d6804f501885\">\n",
              "    <style>\n",
              "      .colab-df-generate {\n",
              "        background-color: #E8F0FE;\n",
              "        border: none;\n",
              "        border-radius: 50%;\n",
              "        cursor: pointer;\n",
              "        display: none;\n",
              "        fill: #1967D2;\n",
              "        height: 32px;\n",
              "        padding: 0 0 0 0;\n",
              "        width: 32px;\n",
              "      }\n",
              "\n",
              "      .colab-df-generate:hover {\n",
              "        background-color: #E2EBFA;\n",
              "        box-shadow: 0px 1px 2px rgba(60, 64, 67, 0.3), 0px 1px 3px 1px rgba(60, 64, 67, 0.15);\n",
              "        fill: #174EA6;\n",
              "      }\n",
              "\n",
              "      [theme=dark] .colab-df-generate {\n",
              "        background-color: #3B4455;\n",
              "        fill: #D2E3FC;\n",
              "      }\n",
              "\n",
              "      [theme=dark] .colab-df-generate:hover {\n",
              "        background-color: #434B5C;\n",
              "        box-shadow: 0px 1px 3px 1px rgba(0, 0, 0, 0.15);\n",
              "        filter: drop-shadow(0px 1px 2px rgba(0, 0, 0, 0.3));\n",
              "        fill: #FFFFFF;\n",
              "      }\n",
              "    </style>\n",
              "    <button class=\"colab-df-generate\" onclick=\"generateWithVariable('df_estudo_1')\"\n",
              "            title=\"Generate code using this dataframe.\"\n",
              "            style=\"display:none;\">\n",
              "\n",
              "  <svg xmlns=\"http://www.w3.org/2000/svg\" height=\"24px\"viewBox=\"0 0 24 24\"\n",
              "       width=\"24px\">\n",
              "    <path d=\"M7,19H8.4L18.45,9,17,7.55,7,17.6ZM5,21V16.75L18.45,3.32a2,2,0,0,1,2.83,0l1.4,1.43a1.91,1.91,0,0,1,.58,1.4,1.91,1.91,0,0,1-.58,1.4L9.25,21ZM18.45,9,17,7.55Zm-12,3A5.31,5.31,0,0,0,4.9,8.1,5.31,5.31,0,0,0,1,6.5,5.31,5.31,0,0,0,4.9,4.9,5.31,5.31,0,0,0,6.5,1,5.31,5.31,0,0,0,8.1,4.9,5.31,5.31,0,0,0,12,6.5,5.46,5.46,0,0,0,6.5,12Z\"/>\n",
              "  </svg>\n",
              "    </button>\n",
              "    <script>\n",
              "      (() => {\n",
              "      const buttonEl =\n",
              "        document.querySelector('#id_b6e7c4d2-6b9f-4521-933f-d6804f501885 button.colab-df-generate');\n",
              "      buttonEl.style.display =\n",
              "        google.colab.kernel.accessAllowed ? 'block' : 'none';\n",
              "\n",
              "      buttonEl.onclick = () => {\n",
              "        google.colab.notebook.generateWithVariable('df_estudo_1');\n",
              "      }\n",
              "      })();\n",
              "    </script>\n",
              "  </div>\n",
              "\n",
              "    </div>\n",
              "  </div>\n"
            ],
            "application/vnd.google.colaboratory.intrinsic+json": {
              "type": "dataframe",
              "variable_name": "df_estudo_1",
              "summary": "{\n  \"name\": \"df_estudo_1\",\n  \"rows\": 10,\n  \"fields\": [\n    {\n      \"column\": \"preco\",\n      \"properties\": {\n        \"dtype\": \"number\",\n        \"std\": 23,\n        \"min\": 38,\n        \"max\": 110,\n        \"num_unique_values\": 10,\n        \"samples\": [\n          95,\n          42,\n          63\n        ],\n        \"semantic_type\": \"\",\n        \"description\": \"\"\n      }\n    },\n    {\n      \"column\": \"demanda\",\n      \"properties\": {\n        \"dtype\": \"number\",\n        \"std\": 47,\n        \"min\": 208,\n        \"max\": 350,\n        \"num_unique_values\": 10,\n        \"samples\": [\n          215,\n          325,\n          246\n        ],\n        \"semantic_type\": \"\",\n        \"description\": \"\"\n      }\n    }\n  ]\n}"
            }
          },
          "metadata": {},
          "execution_count": 5
        }
      ]
    },
    {
      "cell_type": "code",
      "source": [
        "plt.scatter(df_estudo_1['preco'],df_estudo_1['demanda'])\n",
        "plt.xlabel('Preço')\n",
        "plt.ylabel('Demanda')\n",
        "plt.title('Gráfico de Dispersão')\n",
        "plt.show()"
      ],
      "metadata": {
        "id": "fpceZTJ3sIgk",
        "outputId": "a027ed5a-a14a-4884-dcd1-a05b62e6d8c5",
        "colab": {
          "base_uri": "https://localhost:8080/",
          "height": 472
        }
      },
      "execution_count": 6,
      "outputs": [
        {
          "output_type": "display_data",
          "data": {
            "text/plain": [
              "<Figure size 640x480 with 1 Axes>"
            ],
            "image/png": "[encoded data removed]"
          },
          "metadata": {}
        }
      ]
    },
    {
      "cell_type": "markdown",
      "source": [
        "##Coeficiente de Correlação"
      ],
      "metadata": {
        "id": "VGZTO5nXtNGt"
      }
    },
    {
      "cell_type": "markdown",
      "source": [
        "O método `.corr()` retorna o valor do coeficiente de correlação entre as colunas especificadas, fornecendo uma medida da força e direção da relação entre as variáveis. Isso pode ser útil para entender a relação entre diferentes variáveis em um conjunto de dados e explorar possíveis associações."
      ],
      "metadata": {
        "id": "Ir0b_0EKtVWv"
      }
    },
    {
      "cell_type": "code",
      "source": [
        "coef_correlacao = df_estudo_1['preco'].corr(df_estudo_1['demanda'])\n",
        "\n",
        "round(coef_correlacao,2)\n"
      ],
      "metadata": {
        "id": "PfZUZeDgszIR",
        "outputId": "c0acb238-a5a1-43c3-c9ba-eb15e8553300",
        "colab": {
          "base_uri": "https://localhost:8080/"
        }
      },
      "execution_count": 7,
      "outputs": [
        {
          "output_type": "execute_result",
          "data": {
            "text/plain": [
              "-0.9"
            ]
          },
          "metadata": {},
          "execution_count": 7
        }
      ]
    },
    {
      "cell_type": "markdown",
      "source": [
        "##Determinando a reta ajustada"
      ],
      "metadata": {
        "id": "xNrKhzWGvJEu"
      }
    },
    {
      "cell_type": "markdown",
      "source": [
        "A função `polyfit()` é uma função da biblioteca NumPy que realiza uma regressão polinomial em um conjunto de dados. Ela recebe como argumentos os valores de x e y e o grau do polinômio desejado. A função retorna os coeficientes do polinômio ajustado, que podem ser usados para criar uma função polinomial.\n",
        "A função `poly1d()` é uma função da biblioteca NumPy que cria uma função polinomial a partir dos coeficientes fornecidos. Ela recebe como argumento os coeficientes do polinômio e retorna uma função que pode ser usada para calcular os valores do polinômio em diferentes pontos.\n",
        "Essas duas funções são frequentemente usadas em conjunto para realizar uma regressão polinomial e obter uma função que representa a curva ajustada aos dados. A função `polyfit()` é usada para calcular os coeficientes do polinômio ajustado, enquanto a função `poly1d()` é usada para criar uma função polinomial a partir desses coeficientes."
      ],
      "metadata": {
        "id": "doYK2Vc4wKcW"
      }
    },
    {
      "cell_type": "code",
      "source": [
        "x = df_estudo_1['preco']\n",
        "y = df_estudo_1['demanda']\n",
        "coeficientes = np.polyfit(x, y, 1)\n",
        "reta = np.poly1d(coeficientes)\n",
        "\n",
        "# Plotando a curva de dispersão e a reta ajustada\n",
        "plt.scatter(x, y)\n",
        "plt.plot(x, reta(x), color='red')\n",
        "plt.xlabel('Preço')\n",
        "plt.ylabel('Demanda')\n",
        "plt.title('Reta ajustada')\n",
        "plt.show()"
      ],
      "metadata": {
        "id": "CZ1JNjL0urTF",
        "outputId": "f5589823-67dc-4ed9-88ef-600168771967",
        "colab": {
          "base_uri": "https://localhost:8080/",
          "height": 472
        }
      },
      "execution_count": 8,
      "outputs": [
        {
          "output_type": "display_data",
          "data": {
            "text/plain": [
              "<Figure size 640x480 with 1 Axes>"
            ],
            "image/png": "[encoded data removed]"
          },
          "metadata": {}
        }
      ]
    },
    {
      "cell_type": "markdown",
      "source": [
        "##Coeficiente de determinação R^2\n",
        "\n"
      ],
      "metadata": {
        "id": "O5utVceWw_ZU"
      }
    },
    {
      "cell_type": "code",
      "source": [
        "from sklearn.metrics import r2_score\n"
      ],
      "metadata": {
        "id": "7L19IWBhwdLQ"
      },
      "execution_count": 9,
      "outputs": []
    },
    {
      "cell_type": "code",
      "source": [
        "coeficientes = np.polyfit(x, y, 1)\n",
        "reta = np.poly1d(coeficientes)\n",
        "\n",
        "# Calculando o coeficiente de determinação\n",
        "y_prev = reta(x)\n",
        "r2 = r2_score(y, y_prev)\n",
        "\n",
        "round(r2, 3)"
      ],
      "metadata": {
        "id": "aYm39bo2xkUm",
        "outputId": "f2028046-b593-4b26-cec2-f858217cff9a",
        "colab": {
          "base_uri": "https://localhost:8080/"
        }
      },
      "execution_count": 10,
      "outputs": [
        {
          "output_type": "execute_result",
          "data": {
            "text/plain": [
              "0.813"
            ]
          },
          "metadata": {},
          "execution_count": 10
        }
      ]
    },
    {
      "cell_type": "code",
      "source": [
        "coeficientes = np.polyfit(x, y, 3)\n",
        "reta = np.poly1d(coeficientes)\n",
        "\n",
        "# Calculando o coeficiente de determinação\n",
        "y_pred = reta(x)\n",
        "r2 = r2_score(y, y_pred)\n",
        "\n",
        "# Plotando a curva de dispersão e a reta ajustada\n",
        "plt.scatter(x, y)\n",
        "plt.plot(x, reta(x), color='red')\n",
        "plt.xlabel('Preço')\n",
        "plt.ylabel('Demanda')\n",
        "plt.title('Reta ajustada (R² = {:.2f})'.format(r2))\n",
        "plt.show()"
      ],
      "metadata": {
        "id": "1PbiPD77xwJQ",
        "outputId": "60478b12-4cf8-482f-85b1-4a7c3d5bdb53",
        "colab": {
          "base_uri": "https://localhost:8080/",
          "height": 472
        }
      },
      "execution_count": 11,
      "outputs": [
        {
          "output_type": "display_data",
          "data": {
            "text/plain": [
              "<Figure size 640x480 with 1 Axes>"
            ],
            "image/png": "[encoded data removed]"
          },
          "metadata": {}
        }
      ]
    },
    {
      "cell_type": "markdown",
      "source": [
        "##Modelo de Regressão Linear"
      ],
      "metadata": {
        "id": "IsV0HFePYVpc"
      }
    },
    {
      "cell_type": "markdown",
      "source": [
        "###LinearRegression\n",
        "\n",
        "A função `LinearRegression()` é uma classe da biblioteca scikit-learn que implementa o algoritmo de regressão linear. Essa classe permite ajustar um modelo de regressão linear aos dados, encontrar os coeficientes da reta de ajuste e fazer previsões com base nesse modelo.\n",
        "A classe `LinearRegression()` possui vários métodos úteis, incluindo:\n",
        "* `fit(X, y)`: Ajusta o modelo de regressão linear aos dados de treinamento, onde X é uma matriz de variáveis independentes e y é um vetor de variáveis dependentes.\n",
        "* `predict(X)`: Faz previsões com base no modelo ajustado, onde X é uma matriz de variáveis independentes.\n",
        "* `coef_`: Atributo que retorna os coeficientes da reta de ajuste.\n",
        "* `intercept_`: Atributo que retorna o intercepto da reta de ajuste.\n",
        "* `score(X, y)`: Calcula o coeficiente de determinação `(R²)` do modelo, onde X é uma matriz de variáveis independentes e y é um vetor de variáveis dependentes.\n",
        "\n",
        "Essa função é muito útil para realizar análises de regressão linear simples ou múltipla, onde é possível ajustar uma reta aos dados e fazer previsões com base nesse modelo. Ela também fornece métricas para avaliar a qualidade do ajuste, como o coeficiente de determinação `(R²)`."
      ],
      "metadata": {
        "id": "vRChuiIvmHwC"
      }
    },
    {
      "cell_type": "code",
      "source": [
        "from sklearn.linear_model import LinearRegression\n",
        "\n",
        "regressor = LinearRegression()\n"
      ],
      "metadata": {
        "id": "dy4_n5G3al-2"
      },
      "execution_count": 12,
      "outputs": []
    },
    {
      "cell_type": "markdown",
      "source": [
        "Dividindo entre variável dependente e independente"
      ],
      "metadata": {
        "id": "mue-k3A_ZZEb"
      }
    },
    {
      "cell_type": "code",
      "source": [
        "X_demanda = df_estudo_1['preco'].values\n",
        "\n",
        "X_demanda"
      ],
      "metadata": {
        "id": "uoC1q4N5yWXe",
        "outputId": "ad1ac922-3807-4d56-8e08-6160ebd44a5a",
        "colab": {
          "base_uri": "https://localhost:8080/"
        }
      },
      "execution_count": 13,
      "outputs": [
        {
          "output_type": "execute_result",
          "data": {
            "text/plain": [
              "array([ 38,  42,  50,  56,  59,  63,  70,  80,  95, 110])"
            ]
          },
          "metadata": {},
          "execution_count": 13
        }
      ]
    },
    {
      "cell_type": "code",
      "source": [
        "X_demanda.shape"
      ],
      "metadata": {
        "id": "t46zS-ltaNIW",
        "outputId": "2110a530-dfec-4b2e-dd60-ad377b96c263",
        "colab": {
          "base_uri": "https://localhost:8080/"
        }
      },
      "execution_count": 14,
      "outputs": [
        {
          "output_type": "execute_result",
          "data": {
            "text/plain": [
              "(10,)"
            ]
          },
          "metadata": {},
          "execution_count": 14
        }
      ]
    },
    {
      "cell_type": "code",
      "source": [
        "y_demanda = df_estudo_1['demanda'].values\n",
        "y_demanda"
      ],
      "metadata": {
        "id": "RAk1CGKJZ0l4",
        "outputId": "057f0f32-5384-4b66-d6b9-e8a57a189ad5",
        "colab": {
          "base_uri": "https://localhost:8080/"
        }
      },
      "execution_count": 15,
      "outputs": [
        {
          "output_type": "execute_result",
          "data": {
            "text/plain": [
              "array([350, 325, 297, 270, 256, 246, 238, 223, 215, 208])"
            ]
          },
          "metadata": {},
          "execution_count": 15
        }
      ]
    },
    {
      "cell_type": "code",
      "source": [
        "y_demanda.shape"
      ],
      "metadata": {
        "id": "hzYn_ssXaDLm",
        "outputId": "e901a87f-e762-4889-be7c-468f9e2c91aa",
        "colab": {
          "base_uri": "https://localhost:8080/"
        }
      },
      "execution_count": 16,
      "outputs": [
        {
          "output_type": "execute_result",
          "data": {
            "text/plain": [
              "(10,)"
            ]
          },
          "metadata": {},
          "execution_count": 16
        }
      ]
    },
    {
      "cell_type": "code",
      "source": [
        "# Dividir os dados em conjuntos de treinamento e teste\n",
        "X_train, X_test, y_train, y_test = train_test_split(X_demanda, y_demanda, test_size=0.2, random_state=42)"
      ],
      "metadata": {
        "id": "aQkzKjjIaDJW"
      },
      "execution_count": 17,
      "outputs": []
    },
    {
      "cell_type": "markdown",
      "source": [
        "Análise de correlações"
      ],
      "metadata": {
        "id": "EMzZuIMTaEkp"
      }
    },
    {
      "cell_type": "code",
      "source": [
        "np.corrcoef(X_demanda, y_demanda)"
      ],
      "metadata": {
        "id": "wDGxD3frZ-9e",
        "outputId": "1e317832-9499-4207-dbdb-ea7d2392b872",
        "colab": {
          "base_uri": "https://localhost:8080/"
        }
      },
      "execution_count": 18,
      "outputs": [
        {
          "output_type": "execute_result",
          "data": {
            "text/plain": [
              "array([[ 1.        , -0.90151012],\n",
              "       [-0.90151012,  1.        ]])"
            ]
          },
          "metadata": {},
          "execution_count": 18
        }
      ]
    },
    {
      "cell_type": "markdown",
      "source": [
        "Regressão Linear"
      ],
      "metadata": {
        "id": "M35Cd2qKawkw"
      }
    },
    {
      "cell_type": "code",
      "source": [
        "regressor.fit(X_train, y_train)"
      ],
      "metadata": {
        "id": "nh_OueWEa1Hw",
        "outputId": "0099ebc6-843b-4a4f-dcfe-562d0dfac6dc",
        "colab": {
          "base_uri": "https://localhost:8080/",
          "height": 339
        }
      },
      "execution_count": 19,
      "outputs": [
        {
          "output_type": "error",
          "ename": "ValueError",
          "evalue": "Expected 2D array, got 1D array instead:\narray=[ 63  38  80  50 110  59  56  70].\nReshape your data either using array.reshape(-1, 1) if your data has a single feature or array.reshape(1, -1) if it contains a single sample.",
          "traceback": [
            "\u001b[0;31m---------------------------------------------------------------------------\u001b[0m",
            "\u001b[0;31mValueError\u001b[0m                                Traceback (most recent call last)",
            "\u001b[0;32m<ipython-input-19-cb9aa30858d7>\u001b[0m in \u001b[0;36m<cell line: 1>\u001b[0;34m()\u001b[0m\n\u001b[0;32m----> 1\u001b[0;31m \u001b[0mregressor\u001b[0m\u001b[0;34m.\u001b[0m\u001b[0mfit\u001b[0m\u001b[0;34m(\u001b[0m\u001b[0mX_train\u001b[0m\u001b[0;34m,\u001b[0m \u001b[0my_train\u001b[0m\u001b[0;34m)\u001b[0m\u001b[0;34m\u001b[0m\u001b[0;34m\u001b[0m\u001b[0m\n\u001b[0m",
            "\u001b[0;32m/usr/local/lib/python3.10/dist-packages/sklearn/linear_model/_base.py\u001b[0m in \u001b[0;36mfit\u001b[0;34m(self, X, y, sample_weight)\u001b[0m\n\u001b[1;32m    646\u001b[0m         \u001b[0maccept_sparse\u001b[0m \u001b[0;34m=\u001b[0m \u001b[0;32mFalse\u001b[0m \u001b[0;32mif\u001b[0m \u001b[0mself\u001b[0m\u001b[0;34m.\u001b[0m\u001b[0mpositive\u001b[0m \u001b[0;32melse\u001b[0m \u001b[0;34m[\u001b[0m\u001b[0;34m\"csr\"\u001b[0m\u001b[0;34m,\u001b[0m \u001b[0;34m\"csc\"\u001b[0m\u001b[0;34m,\u001b[0m \u001b[0;34m\"coo\"\u001b[0m\u001b[0;34m]\u001b[0m\u001b[0;34m\u001b[0m\u001b[0;34m\u001b[0m\u001b[0m\n\u001b[1;32m    647\u001b[0m \u001b[0;34m\u001b[0m\u001b[0m\n\u001b[0;32m--> 648\u001b[0;31m         X, y = self._validate_data(\n\u001b[0m\u001b[1;32m    649\u001b[0m             \u001b[0mX\u001b[0m\u001b[0;34m,\u001b[0m \u001b[0my\u001b[0m\u001b[0;34m,\u001b[0m \u001b[0maccept_sparse\u001b[0m\u001b[0;34m=\u001b[0m\u001b[0maccept_sparse\u001b[0m\u001b[0;34m,\u001b[0m \u001b[0my_numeric\u001b[0m\u001b[0;34m=\u001b[0m\u001b[0;32mTrue\u001b[0m\u001b[0;34m,\u001b[0m \u001b[0mmulti_output\u001b[0m\u001b[0;34m=\u001b[0m\u001b[0;32mTrue\u001b[0m\u001b[0;34m\u001b[0m\u001b[0;34m\u001b[0m\u001b[0m\n\u001b[1;32m    650\u001b[0m         )\n",
            "\u001b[0;32m/usr/local/lib/python3.10/dist-packages/sklearn/base.py\u001b[0m in \u001b[0;36m_validate_data\u001b[0;34m(self, X, y, reset, validate_separately, **check_params)\u001b[0m\n\u001b[1;32m    582\u001b[0m                 \u001b[0my\u001b[0m \u001b[0;34m=\u001b[0m \u001b[0mcheck_array\u001b[0m\u001b[0;34m(\u001b[0m\u001b[0my\u001b[0m\u001b[0;34m,\u001b[0m \u001b[0minput_name\u001b[0m\u001b[0;34m=\u001b[0m\u001b[0;34m\"y\"\u001b[0m\u001b[0;34m,\u001b[0m \u001b[0;34m**\u001b[0m\u001b[0mcheck_y_params\u001b[0m\u001b[0;34m)\u001b[0m\u001b[0;34m\u001b[0m\u001b[0;34m\u001b[0m\u001b[0m\n\u001b[1;32m    583\u001b[0m             \u001b[0;32melse\u001b[0m\u001b[0;34m:\u001b[0m\u001b[0;34m\u001b[0m\u001b[0;34m\u001b[0m\u001b[0m\n\u001b[0;32m--> 584\u001b[0;31m                 \u001b[0mX\u001b[0m\u001b[0;34m,\u001b[0m \u001b[0my\u001b[0m \u001b[0;34m=\u001b[0m \u001b[0mcheck_X_y\u001b[0m\u001b[0;34m(\u001b[0m\u001b[0mX\u001b[0m\u001b[0;34m,\u001b[0m \u001b[0my\u001b[0m\u001b[0;34m,\u001b[0m \u001b[0;34m**\u001b[0m\u001b[0mcheck_params\u001b[0m\u001b[0;34m)\u001b[0m\u001b[0;34m\u001b[0m\u001b[0;34m\u001b[0m\u001b[0m\n\u001b[0m\u001b[1;32m    585\u001b[0m             \u001b[0mout\u001b[0m \u001b[0;34m=\u001b[0m \u001b[0mX\u001b[0m\u001b[0;34m,\u001b[0m \u001b[0my\u001b[0m\u001b[0;34m\u001b[0m\u001b[0;34m\u001b[0m\u001b[0m\n\u001b[1;32m    586\u001b[0m \u001b[0;34m\u001b[0m\u001b[0m\n",
            "\u001b[0;32m/usr/local/lib/python3.10/dist-packages/sklearn/utils/validation.py\u001b[0m in \u001b[0;36mcheck_X_y\u001b[0;34m(X, y, accept_sparse, accept_large_sparse, dtype, order, copy, force_all_finite, ensure_2d, allow_nd, multi_output, ensure_min_samples, ensure_min_features, y_numeric, estimator)\u001b[0m\n\u001b[1;32m   1104\u001b[0m         )\n\u001b[1;32m   1105\u001b[0m \u001b[0;34m\u001b[0m\u001b[0m\n\u001b[0;32m-> 1106\u001b[0;31m     X = check_array(\n\u001b[0m\u001b[1;32m   1107\u001b[0m         \u001b[0mX\u001b[0m\u001b[0;34m,\u001b[0m\u001b[0;34m\u001b[0m\u001b[0;34m\u001b[0m\u001b[0m\n\u001b[1;32m   1108\u001b[0m         \u001b[0maccept_sparse\u001b[0m\u001b[0;34m=\u001b[0m\u001b[0maccept_sparse\u001b[0m\u001b[0;34m,\u001b[0m\u001b[0;34m\u001b[0m\u001b[0;34m\u001b[0m\u001b[0m\n",
            "\u001b[0;32m/usr/local/lib/python3.10/dist-packages/sklearn/utils/validation.py\u001b[0m in \u001b[0;36mcheck_array\u001b[0;34m(array, accept_sparse, accept_large_sparse, dtype, order, copy, force_all_finite, ensure_2d, allow_nd, ensure_min_samples, ensure_min_features, estimator, input_name)\u001b[0m\n\u001b[1;32m    900\u001b[0m             \u001b[0;31m# If input is 1D raise error\u001b[0m\u001b[0;34m\u001b[0m\u001b[0;34m\u001b[0m\u001b[0m\n\u001b[1;32m    901\u001b[0m             \u001b[0;32mif\u001b[0m \u001b[0marray\u001b[0m\u001b[0;34m.\u001b[0m\u001b[0mndim\u001b[0m \u001b[0;34m==\u001b[0m \u001b[0;36m1\u001b[0m\u001b[0;34m:\u001b[0m\u001b[0;34m\u001b[0m\u001b[0;34m\u001b[0m\u001b[0m\n\u001b[0;32m--> 902\u001b[0;31m                 raise ValueError(\n\u001b[0m\u001b[1;32m    903\u001b[0m                     \u001b[0;34m\"Expected 2D array, got 1D array instead:\\narray={}.\\n\"\u001b[0m\u001b[0;34m\u001b[0m\u001b[0;34m\u001b[0m\u001b[0m\n\u001b[1;32m    904\u001b[0m                     \u001b[0;34m\"Reshape your data either using array.reshape(-1, 1) if \"\u001b[0m\u001b[0;34m\u001b[0m\u001b[0;34m\u001b[0m\u001b[0m\n",
            "\u001b[0;31mValueError\u001b[0m: Expected 2D array, got 1D array instead:\narray=[ 63  38  80  50 110  59  56  70].\nReshape your data either using array.reshape(-1, 1) if your data has a single feature or array.reshape(1, -1) if it contains a single sample."
          ]
        }
      ]
    },
    {
      "cell_type": "markdown",
      "source": [
        "A função `reshape()` é um método da classe NumPy que permite reorganizar as dimensões de um array.\n",
        "\n",
        "Essa operação é comumente usada em tarefas de modelagem preditiva, como **Regressão Linear**, onde é necessário ter uma matriz de recursos com uma única coluna para a variável independente."
      ],
      "metadata": {
        "id": "0OhX8ngVm0Al"
      }
    },
    {
      "cell_type": "code",
      "source": [
        "X_train = X_train.reshape(-1,1)\n",
        "X_test = X_test.reshape(-1,1)\n",
        "\n",
        "X_train"
      ],
      "metadata": {
        "id": "qIdQYPyoeRC-",
        "outputId": "9fc945ae-cee7-4070-8bb6-fc051b27f7e7",
        "colab": {
          "base_uri": "https://localhost:8080/"
        }
      },
      "execution_count": 20,
      "outputs": [
        {
          "output_type": "execute_result",
          "data": {
            "text/plain": [
              "array([[ 63],\n",
              "       [ 38],\n",
              "       [ 80],\n",
              "       [ 50],\n",
              "       [110],\n",
              "       [ 59],\n",
              "       [ 56],\n",
              "       [ 70]])"
            ]
          },
          "metadata": {},
          "execution_count": 20
        }
      ]
    },
    {
      "cell_type": "code",
      "source": [
        "reg = regressor.fit(X_train, y_train)\n",
        "\n",
        "reg"
      ],
      "metadata": {
        "id": "Zlfa0ywQfBSh",
        "outputId": "80011cb5-fc48-4a62-8db5-dbdcb062471f",
        "colab": {
          "base_uri": "https://localhost:8080/",
          "height": 75
        }
      },
      "execution_count": 21,
      "outputs": [
        {
          "output_type": "execute_result",
          "data": {
            "text/plain": [
              "LinearRegression()"
            ],
            "text/html": [
              "<style>#sk-container-id-1 {color: black;background-color: white;}#sk-container-id-1 pre{padding: 0;}#sk-container-id-1 div.sk-toggleable {background-color: white;}#sk-container-id-1 label.sk-toggleable__label {cursor: pointer;display: block;width: 100%;margin-bottom: 0;padding: 0.3em;box-sizing: border-box;text-align: center;}#sk-container-id-1 label.sk-toggleable__label-arrow:before {content: \"▸\";float: left;margin-right: 0.25em;color: #696969;}#sk-container-id-1 label.sk-toggleable__label-arrow:hover:before {color: black;}#sk-container-id-1 div.sk-estimator:hover label.sk-toggleable__label-arrow:before {color: black;}#sk-container-id-1 div.sk-toggleable__content {max-height: 0;max-width: 0;overflow: hidden;text-align: left;background-color: #f0f8ff;}#sk-container-id-1 div.sk-toggleable__content pre {margin: 0.2em;color: black;border-radius: 0.25em;background-color: #f0f8ff;}#sk-container-id-1 input.sk-toggleable__control:checked~div.sk-toggleable__content {max-height: 200px;max-width: 100%;overflow: auto;}#sk-container-id-1 input.sk-toggleable__control:checked~label.sk-toggleable__label-arrow:before {content: \"▾\";}#sk-container-id-1 div.sk-estimator input.sk-toggleable__control:checked~label.sk-toggleable__label {background-color: #d4ebff;}#sk-container-id-1 div.sk-label input.sk-toggleable__control:checked~label.sk-toggleable__label {background-color: #d4ebff;}#sk-container-id-1 input.sk-hidden--visually {border: 0;clip: rect(1px 1px 1px 1px);clip: rect(1px, 1px, 1px, 1px);height: 1px;margin: -1px;overflow: hidden;padding: 0;position: absolute;width: 1px;}#sk-container-id-1 div.sk-estimator {font-family: monospace;background-color: #f0f8ff;border: 1px dotted black;border-radius: 0.25em;box-sizing: border-box;margin-bottom: 0.5em;}#sk-container-id-1 div.sk-estimator:hover {background-color: #d4ebff;}#sk-container-id-1 div.sk-parallel-item::after {content: \"\";width: 100%;border-bottom: 1px solid gray;flex-grow: 1;}#sk-container-id-1 div.sk-label:hover label.sk-toggleable__label {background-color: #d4ebff;}#sk-container-id-1 div.sk-serial::before {content: \"\";position: absolute;border-left: 1px solid gray;box-sizing: border-box;top: 0;bottom: 0;left: 50%;z-index: 0;}#sk-container-id-1 div.sk-serial {display: flex;flex-direction: column;align-items: center;background-color: white;padding-right: 0.2em;padding-left: 0.2em;position: relative;}#sk-container-id-1 div.sk-item {position: relative;z-index: 1;}#sk-container-id-1 div.sk-parallel {display: flex;align-items: stretch;justify-content: center;background-color: white;position: relative;}#sk-container-id-1 div.sk-item::before, #sk-container-id-1 div.sk-parallel-item::before {content: \"\";position: absolute;border-left: 1px solid gray;box-sizing: border-box;top: 0;bottom: 0;left: 50%;z-index: -1;}#sk-container-id-1 div.sk-parallel-item {display: flex;flex-direction: column;z-index: 1;position: relative;background-color: white;}#sk-container-id-1 div.sk-parallel-item:first-child::after {align-self: flex-end;width: 50%;}#sk-container-id-1 div.sk-parallel-item:last-child::after {align-self: flex-start;width: 50%;}#sk-container-id-1 div.sk-parallel-item:only-child::after {width: 0;}#sk-container-id-1 div.sk-dashed-wrapped {border: 1px dashed gray;margin: 0 0.4em 0.5em 0.4em;box-sizing: border-box;padding-bottom: 0.4em;background-color: white;}#sk-container-id-1 div.sk-label label {font-family: monospace;font-weight: bold;display: inline-block;line-height: 1.2em;}#sk-container-id-1 div.sk-label-container {text-align: center;}#sk-container-id-1 div.sk-container {/* jupyter's `normalize.less` sets `[hidden] { display: none; }` but bootstrap.min.css set `[hidden] { display: none !important; }` so we also need the `!important` here to be able to override the default hidden behavior on the sphinx rendered scikit-learn.org. See: https://github.com/scikit-learn/scikit-learn/issues/21755 */display: inline-block !important;position: relative;}#sk-container-id-1 div.sk-text-repr-fallback {display: none;}</style><div id=\"sk-container-id-1\" class=\"sk-top-container\"><div class=\"sk-text-repr-fallback\"><pre>LinearRegression()</pre><b>In a Jupyter environment, please rerun this cell to show the HTML representation or trust the notebook. <br />On GitHub, the HTML representation is unable to render, please try loading this page with nbviewer.org.</b></div><div class=\"sk-container\" hidden><div class=\"sk-item\"><div class=\"sk-estimator sk-toggleable\"><input class=\"sk-toggleable__control sk-hidden--visually\" id=\"sk-estimator-id-1\" type=\"checkbox\" checked><label for=\"sk-estimator-id-1\" class=\"sk-toggleable__label sk-toggleable__label-arrow\">LinearRegression</label><div class=\"sk-toggleable__content\"><pre>LinearRegression()</pre></div></div></div></div></div>"
            ]
          },
          "metadata": {},
          "execution_count": 21
        }
      ]
    },
    {
      "cell_type": "markdown",
      "source": [
        "Previsões"
      ],
      "metadata": {
        "id": "bH906uMLfHdu"
      }
    },
    {
      "cell_type": "code",
      "source": [
        "previsoes = regressor.predict(X_test)\n",
        "\n",
        "previsoes"
      ],
      "metadata": {
        "id": "VCvD4lzlbQl0",
        "outputId": "b9fed422-4f5c-4fb2-d3e9-63e04576eaa6",
        "colab": {
          "base_uri": "https://localhost:8080/"
        }
      },
      "execution_count": 22,
      "outputs": [
        {
          "output_type": "execute_result",
          "data": {
            "text/plain": [
              "array([208.24420864, 303.83589897])"
            ]
          },
          "metadata": {},
          "execution_count": 22
        }
      ]
    },
    {
      "cell_type": "markdown",
      "source": [
        "`.ravel()`\n",
        "\n",
        "É usado para transformar um array multidimensional em um array unidimensional."
      ],
      "metadata": {
        "id": "3Ma45i3XnlEX"
      }
    },
    {
      "cell_type": "code",
      "source": [
        "X_train = X_train.ravel()\n",
        "X_test = X_test.ravel()\n",
        "\n",
        "X_test"
      ],
      "metadata": {
        "id": "VML9O6mGnsq7",
        "outputId": "3f74135f-f147-4217-8d5e-a41f6b46c22c",
        "colab": {
          "base_uri": "https://localhost:8080/"
        }
      },
      "execution_count": 23,
      "outputs": [
        {
          "output_type": "execute_result",
          "data": {
            "text/plain": [
              "array([95, 42])"
            ]
          },
          "metadata": {},
          "execution_count": 23
        }
      ]
    },
    {
      "cell_type": "code",
      "source": [
        "grafico = px.scatter(x = X_train, y = y_train)\n",
        "grafico.add_scatter(x = X_test, y = previsoes, name = 'Regressão')\n",
        "grafico.show()"
      ],
      "metadata": {
        "id": "lUlm49CGdLcl",
        "outputId": "1eed2eff-070a-4c86-a8d6-00d832413d7a",
        "colab": {
          "base_uri": "https://localhost:8080/",
          "height": 542
        }
      },
      "execution_count": 24,
      "outputs": [
        {
          "output_type": "display_data",
          "data": {
            "text/html": [
              "<html>\n",
              "<head><meta charset=\"utf-8\" /></head>\n",
              "<body>\n",
              "    <div>            <script src=\"https://cdnjs.cloudflare.com/ajax/libs/mathjax/2.7.5/MathJax.js?config=TeX-AMS-MML_SVG\"></script><script type=\"text/javascript\">if (window.MathJax && window.MathJax.Hub && window.MathJax.Hub.Config) {window.MathJax.Hub.Config({SVG: {font: \"STIX-Web\"}});}</script>                <script type=\"text/javascript\">window.PlotlyConfig = {MathJaxConfig: 'local'};</script>\n",
              "        <script charset=\"utf-8\" src=\"https://cdn.plot.ly/plotly-2.24.1.min.js\"></script>                <div id=\"411093a4-4631-40d0-9f86-8454d7bc06fb\" class=\"plotly-graph-div\" style=\"height:525px; width:100%;\"></div>            <script type=\"text/javascript\">                                    window.PLOTLYENV=window.PLOTLYENV || {};                                    if (document.getElementById(\"411093a4-4631-40d0-9f86-8454d7bc06fb\")) {                    Plotly.newPlot(                        \"411093a4-4631-40d0-9f86-8454d7bc06fb\",                        [{\"hovertemplate\":\"x=%{x}\\u003cbr\\u003ey=%{y}\\u003cextra\\u003e\\u003c\\u002fextra\\u003e\",\"legendgroup\":\"\",\"marker\":{\"color\":\"#636efa\",\"symbol\":\"circle\"},\"mode\":\"markers\",\"name\":\"\",\"orientation\":\"v\",\"showlegend\":false,\"x\":[63,38,80,50,110,59,56,70],\"xaxis\":\"x\",\"y\":[246,350,223,297,208,256,270,238],\"yaxis\":\"y\",\"type\":\"scatter\"},{\"name\":\"Regress\\u00e3o\",\"x\":[95,42],\"y\":[208.24420863846956,303.835898968764],\"type\":\"scatter\"}],                        {\"template\":{\"data\":{\"histogram2dcontour\":[{\"type\":\"histogram2dcontour\",\"colorbar\":{\"outlinewidth\":0,\"ticks\":\"\"},\"colorscale\":[[0.0,\"#0d0887\"],[0.1111111111111111,\"#46039f\"],[0.2222222222222222,\"#7201a8\"],[0.3333333333333333,\"#9c179e\"],[0.4444444444444444,\"#bd3786\"],[0.5555555555555556,\"#d8576b\"],[0.6666666666666666,\"#ed7953\"],[0.7777777777777778,\"#fb9f3a\"],[0.8888888888888888,\"#fdca26\"],[1.0,\"#f0f921\"]]}],\"choropleth\":[{\"type\":\"choropleth\",\"colorbar\":{\"outlinewidth\":0,\"ticks\":\"\"}}],\"histogram2d\":[{\"type\":\"histogram2d\",\"colorbar\":{\"outlinewidth\":0,\"ticks\":\"\"},\"colorscale\":[[0.0,\"#0d0887\"],[0.1111111111111111,\"#46039f\"],[0.2222222222222222,\"#7201a8\"],[0.3333333333333333,\"#9c179e\"],[0.4444444444444444,\"#bd3786\"],[0.5555555555555556,\"#d8576b\"],[0.6666666666666666,\"#ed7953\"],[0.7777777777777778,\"#fb9f3a\"],[0.8888888888888888,\"#fdca26\"],[1.0,\"#f0f921\"]]}],\"heatmap\":[{\"type\":\"heatmap\",\"colorbar\":{\"outlinewidth\":0,\"ticks\":\"\"},\"colorscale\":[[0.0,\"#0d0887\"],[0.1111111111111111,\"#46039f\"],[0.2222222222222222,\"#7201a8\"],[0.3333333333333333,\"#9c179e\"],[0.4444444444444444,\"#bd3786\"],[0.5555555555555556,\"#d8576b\"],[0.6666666666666666,\"#ed7953\"],[0.7777777777777778,\"#fb9f3a\"],[0.8888888888888888,\"#fdca26\"],[1.0,\"#f0f921\"]]}],\"heatmapgl\":[{\"type\":\"heatmapgl\",\"colorbar\":{\"outlinewidth\":0,\"ticks\":\"\"},\"colorscale\":[[0.0,\"#0d0887\"],[0.1111111111111111,\"#46039f\"],[0.2222222222222222,\"#7201a8\"],[0.3333333333333333,\"#9c179e\"],[0.4444444444444444,\"#bd3786\"],[0.5555555555555556,\"#d8576b\"],[0.6666666666666666,\"#ed7953\"],[0.7777777777777778,\"#fb9f3a\"],[0.8888888888888888,\"#fdca26\"],[1.0,\"#f0f921\"]]}],\"contourcarpet\":[{\"type\":\"contourcarpet\",\"colorbar\":{\"outlinewidth\":0,\"ticks\":\"\"}}],\"contour\":[{\"type\":\"contour\",\"colorbar\":{\"outlinewidth\":0,\"ticks\":\"\"},\"colorscale\":[[0.0,\"#0d0887\"],[0.1111111111111111,\"#46039f\"],[0.2222222222222222,\"#7201a8\"],[0.3333333333333333,\"#9c179e\"],[0.4444444444444444,\"#bd3786\"],[0.5555555555555556,\"#d8576b\"],[0.6666666666666666,\"#ed7953\"],[0.7777777777777778,\"#fb9f3a\"],[0.8888888888888888,\"#fdca26\"],[1.0,\"#f0f921\"]]}],\"surface\":[{\"type\":\"surface\",\"colorbar\":{\"outlinewidth\":0,\"ticks\":\"\"},\"colorscale\":[[0.0,\"#0d0887\"],[0.1111111111111111,\"#46039f\"],[0.2222222222222222,\"#7201a8\"],[0.3333333333333333,\"#9c179e\"],[0.4444444444444444,\"#bd3786\"],[0.5555555555555556,\"#d8576b\"],[0.6666666666666666,\"#ed7953\"],[0.7777777777777778,\"#fb9f3a\"],[0.8888888888888888,\"#fdca26\"],[1.0,\"#f0f921\"]]}],\"mesh3d\":[{\"type\":\"mesh3d\",\"colorbar\":{\"outlinewidth\":0,\"ticks\":\"\"}}],\"scatter\":[{\"fillpattern\":{\"fillmode\":\"overlay\",\"size\":10,\"solidity\":0.2},\"type\":\"scatter\"}],\"parcoords\":[{\"type\":\"parcoords\",\"line\":{\"colorbar\":{\"outlinewidth\":0,\"ticks\":\"\"}}}],\"scatterpolargl\":[{\"type\":\"scatterpolargl\",\"marker\":{\"colorbar\":{\"outlinewidth\":0,\"ticks\":\"\"}}}],\"bar\":[{\"error_x\":{\"color\":\"#2a3f5f\"},\"error_y\":{\"color\":\"#2a3f5f\"},\"marker\":{\"line\":{\"color\":\"#E5ECF6\",\"width\":0.5},\"pattern\":{\"fillmode\":\"overlay\",\"size\":10,\"solidity\":0.2}},\"type\":\"bar\"}],\"scattergeo\":[{\"type\":\"scattergeo\",\"marker\":{\"colorbar\":{\"outlinewidth\":0,\"ticks\":\"\"}}}],\"scatterpolar\":[{\"type\":\"scatterpolar\",\"marker\":{\"colorbar\":{\"outlinewidth\":0,\"ticks\":\"\"}}}],\"histogram\":[{\"marker\":{\"pattern\":{\"fillmode\":\"overlay\",\"size\":10,\"solidity\":0.2}},\"type\":\"histogram\"}],\"scattergl\":[{\"type\":\"scattergl\",\"marker\":{\"colorbar\":{\"outlinewidth\":0,\"ticks\":\"\"}}}],\"scatter3d\":[{\"type\":\"scatter3d\",\"line\":{\"colorbar\":{\"outlinewidth\":0,\"ticks\":\"\"}},\"marker\":{\"colorbar\":{\"outlinewidth\":0,\"ticks\":\"\"}}}],\"scattermapbox\":[{\"type\":\"scattermapbox\",\"marker\":{\"colorbar\":{\"outlinewidth\":0,\"ticks\":\"\"}}}],\"scatterternary\":[{\"type\":\"scatterternary\",\"marker\":{\"colorbar\":{\"outlinewidth\":0,\"ticks\":\"\"}}}],\"scattercarpet\":[{\"type\":\"scattercarpet\",\"marker\":{\"colorbar\":{\"outlinewidth\":0,\"ticks\":\"\"}}}],\"carpet\":[{\"aaxis\":{\"endlinecolor\":\"#2a3f5f\",\"gridcolor\":\"white\",\"linecolor\":\"white\",\"minorgridcolor\":\"white\",\"startlinecolor\":\"#2a3f5f\"},\"baxis\":{\"endlinecolor\":\"#2a3f5f\",\"gridcolor\":\"white\",\"linecolor\":\"white\",\"minorgridcolor\":\"white\",\"startlinecolor\":\"#2a3f5f\"},\"type\":\"carpet\"}],\"table\":[{\"cells\":{\"fill\":{\"color\":\"#EBF0F8\"},\"line\":{\"color\":\"white\"}},\"header\":{\"fill\":{\"color\":\"#C8D4E3\"},\"line\":{\"color\":\"white\"}},\"type\":\"table\"}],\"barpolar\":[{\"marker\":{\"line\":{\"color\":\"#E5ECF6\",\"width\":0.5},\"pattern\":{\"fillmode\":\"overlay\",\"size\":10,\"solidity\":0.2}},\"type\":\"barpolar\"}],\"pie\":[{\"automargin\":true,\"type\":\"pie\"}]},\"layout\":{\"autotypenumbers\":\"strict\",\"colorway\":[\"#636efa\",\"#EF553B\",\"#00cc96\",\"#ab63fa\",\"#FFA15A\",\"#19d3f3\",\"#FF6692\",\"#B6E880\",\"#FF97FF\",\"#FECB52\"],\"font\":{\"color\":\"#2a3f5f\"},\"hovermode\":\"closest\",\"hoverlabel\":{\"align\":\"left\"},\"paper_bgcolor\":\"white\",\"plot_bgcolor\":\"#E5ECF6\",\"polar\":{\"bgcolor\":\"#E5ECF6\",\"angularaxis\":{\"gridcolor\":\"white\",\"linecolor\":\"white\",\"ticks\":\"\"},\"radialaxis\":{\"gridcolor\":\"white\",\"linecolor\":\"white\",\"ticks\":\"\"}},\"ternary\":{\"bgcolor\":\"#E5ECF6\",\"aaxis\":{\"gridcolor\":\"white\",\"linecolor\":\"white\",\"ticks\":\"\"},\"baxis\":{\"gridcolor\":\"white\",\"linecolor\":\"white\",\"ticks\":\"\"},\"caxis\":{\"gridcolor\":\"white\",\"linecolor\":\"white\",\"ticks\":\"\"}},\"coloraxis\":{\"colorbar\":{\"outlinewidth\":0,\"ticks\":\"\"}},\"colorscale\":{\"sequential\":[[0.0,\"#0d0887\"],[0.1111111111111111,\"#46039f\"],[0.2222222222222222,\"#7201a8\"],[0.3333333333333333,\"#9c179e\"],[0.4444444444444444,\"#bd3786\"],[0.5555555555555556,\"#d8576b\"],[0.6666666666666666,\"#ed7953\"],[0.7777777777777778,\"#fb9f3a\"],[0.8888888888888888,\"#fdca26\"],[1.0,\"#f0f921\"]],\"sequentialminus\":[[0.0,\"#0d0887\"],[0.1111111111111111,\"#46039f\"],[0.2222222222222222,\"#7201a8\"],[0.3333333333333333,\"#9c179e\"],[0.4444444444444444,\"#bd3786\"],[0.5555555555555556,\"#d8576b\"],[0.6666666666666666,\"#ed7953\"],[0.7777777777777778,\"#fb9f3a\"],[0.8888888888888888,\"#fdca26\"],[1.0,\"#f0f921\"]],\"diverging\":[[0,\"#8e0152\"],[0.1,\"#c51b7d\"],[0.2,\"#de77ae\"],[0.3,\"#f1b6da\"],[0.4,\"#fde0ef\"],[0.5,\"#f7f7f7\"],[0.6,\"#e6f5d0\"],[0.7,\"#b8e186\"],[0.8,\"#7fbc41\"],[0.9,\"#4d9221\"],[1,\"#276419\"]]},\"xaxis\":{\"gridcolor\":\"white\",\"linecolor\":\"white\",\"ticks\":\"\",\"title\":{\"standoff\":15},\"zerolinecolor\":\"white\",\"automargin\":true,\"zerolinewidth\":2},\"yaxis\":{\"gridcolor\":\"white\",\"linecolor\":\"white\",\"ticks\":\"\",\"title\":{\"standoff\":15},\"zerolinecolor\":\"white\",\"automargin\":true,\"zerolinewidth\":2},\"scene\":{\"xaxis\":{\"backgroundcolor\":\"#E5ECF6\",\"gridcolor\":\"white\",\"linecolor\":\"white\",\"showbackground\":true,\"ticks\":\"\",\"zerolinecolor\":\"white\",\"gridwidth\":2},\"yaxis\":{\"backgroundcolor\":\"#E5ECF6\",\"gridcolor\":\"white\",\"linecolor\":\"white\",\"showbackground\":true,\"ticks\":\"\",\"zerolinecolor\":\"white\",\"gridwidth\":2},\"zaxis\":{\"backgroundcolor\":\"#E5ECF6\",\"gridcolor\":\"white\",\"linecolor\":\"white\",\"showbackground\":true,\"ticks\":\"\",\"zerolinecolor\":\"white\",\"gridwidth\":2}},\"shapedefaults\":{\"line\":{\"color\":\"#2a3f5f\"}},\"annotationdefaults\":{\"arrowcolor\":\"#2a3f5f\",\"arrowhead\":0,\"arrowwidth\":1},\"geo\":{\"bgcolor\":\"white\",\"landcolor\":\"#E5ECF6\",\"subunitcolor\":\"white\",\"showland\":true,\"showlakes\":true,\"lakecolor\":\"white\"},\"title\":{\"x\":0.05},\"mapbox\":{\"style\":\"light\"}}},\"xaxis\":{\"anchor\":\"y\",\"domain\":[0.0,1.0],\"title\":{\"text\":\"x\"}},\"yaxis\":{\"anchor\":\"x\",\"domain\":[0.0,1.0],\"title\":{\"text\":\"y\"}},\"legend\":{\"tracegroupgap\":0},\"margin\":{\"t\":60}},                        {\"responsive\": true}                    ).then(function(){\n",
              "                            \n",
              "var gd = document.getElementById('411093a4-4631-40d0-9f86-8454d7bc06fb');\n",
              "var x = new MutationObserver(function (mutations, observer) {{\n",
              "        var display = window.getComputedStyle(gd).display;\n",
              "        if (!display || display === 'none') {{\n",
              "            console.log([gd, 'removed!']);\n",
              "            Plotly.purge(gd);\n",
              "            observer.disconnect();\n",
              "        }}\n",
              "}});\n",
              "\n",
              "// Listen for the removal of the full notebook cells\n",
              "var notebookContainer = gd.closest('#notebook-container');\n",
              "if (notebookContainer) {{\n",
              "    x.observe(notebookContainer, {childList: true});\n",
              "}}\n",
              "\n",
              "// Listen for the clearing of the current output cell\n",
              "var outputEl = gd.closest('.output');\n",
              "if (outputEl) {{\n",
              "    x.observe(outputEl, {childList: true});\n",
              "}}\n",
              "\n",
              "                        })                };                            </script>        </div>\n",
              "</body>\n",
              "</html>"
            ]
          },
          "metadata": {}
        }
      ]
    },
    {
      "cell_type": "code",
      "source": [
        "X_demanda = X_demanda.reshape(-1,1)\n",
        "\n",
        "df_estudo_1['previsao'] = reg.predict(X_demanda)\n",
        "\n",
        "df_estudo_1 = df_estudo_1.round()\n",
        "\n",
        "df_estudo_1"
      ],
      "metadata": {
        "id": "B0LWx4BNgpeQ",
        "outputId": "6b528996-cf46-4bcf-bc62-607899bbdd75",
        "colab": {
          "base_uri": "https://localhost:8080/",
          "height": 363
        }
      },
      "execution_count": 25,
      "outputs": [
        {
          "output_type": "execute_result",
          "data": {
            "text/plain": [
              "   preco  demanda  previsao\n",
              "0     38      350     311.0\n",
              "1     42      325     304.0\n",
              "2     50      297     289.0\n",
              "3     56      270     279.0\n",
              "4     59      256     273.0\n",
              "5     63      246     266.0\n",
              "6     70      238     253.0\n",
              "7     80      223     235.0\n",
              "8     95      215     208.0\n",
              "9    110      208     181.0"
            ],
            "text/html": [
              "\n",
              "  <div id=\"df-f6df89cb-04dc-4968-9591-383f471eb007\" class=\"colab-df-container\">\n",
              "    <div>\n",
              "<style scoped>\n",
              "    .dataframe tbody tr th:only-of-type {\n",
              "        vertical-align: middle;\n",
              "    }\n",
              "\n",
              "    .dataframe tbody tr th {\n",
              "        vertical-align: top;\n",
              "    }\n",
              "\n",
              "    .dataframe thead th {\n",
              "        text-align: right;\n",
              "    }\n",
              "</style>\n",
              "<table border=\"1\" class=\"dataframe\">\n",
              "  <thead>\n",
              "    <tr style=\"text-align: right;\">\n",
              "      <th></th>\n",
              "      <th>preco</th>\n",
              "      <th>demanda</th>\n",
              "      <th>previsao</th>\n",
              "    </tr>\n",
              "  </thead>\n",
              "  <tbody>\n",
              "    <tr>\n",
              "      <th>0</th>\n",
              "      <td>38</td>\n",
              "      <td>350</td>\n",
              "      <td>311.0</td>\n",
              "    </tr>\n",
              "    <tr>\n",
              "      <th>1</th>\n",
              "      <td>42</td>\n",
              "      <td>325</td>\n",
              "      <td>304.0</td>\n",
              "    </tr>\n",
              "    <tr>\n",
              "      <th>2</th>\n",
              "      <td>50</td>\n",
              "      <td>297</td>\n",
              "      <td>289.0</td>\n",
              "    </tr>\n",
              "    <tr>\n",
              "      <th>3</th>\n",
              "      <td>56</td>\n",
              "      <td>270</td>\n",
              "      <td>279.0</td>\n",
              "    </tr>\n",
              "    <tr>\n",
              "      <th>4</th>\n",
              "      <td>59</td>\n",
              "      <td>256</td>\n",
              "      <td>273.0</td>\n",
              "    </tr>\n",
              "    <tr>\n",
              "      <th>5</th>\n",
              "      <td>63</td>\n",
              "      <td>246</td>\n",
              "      <td>266.0</td>\n",
              "    </tr>\n",
              "    <tr>\n",
              "      <th>6</th>\n",
              "      <td>70</td>\n",
              "      <td>238</td>\n",
              "      <td>253.0</td>\n",
              "    </tr>\n",
              "    <tr>\n",
              "      <th>7</th>\n",
              "      <td>80</td>\n",
              "      <td>223</td>\n",
              "      <td>235.0</td>\n",
              "    </tr>\n",
              "    <tr>\n",
              "      <th>8</th>\n",
              "      <td>95</td>\n",
              "      <td>215</td>\n",
              "      <td>208.0</td>\n",
              "    </tr>\n",
              "    <tr>\n",
              "      <th>9</th>\n",
              "      <td>110</td>\n",
              "      <td>208</td>\n",
              "      <td>181.0</td>\n",
              "    </tr>\n",
              "  </tbody>\n",
              "</table>\n",
              "</div>\n",
              "    <div class=\"colab-df-buttons\">\n",
              "\n",
              "  <div class=\"colab-df-container\">\n",
              "    <button class=\"colab-df-convert\" onclick=\"convertToInteractive('df-f6df89cb-04dc-4968-9591-383f471eb007')\"\n",
              "            title=\"Convert this dataframe to an interactive table.\"\n",
              "            style=\"display:none;\">\n",
              "\n",
              "  <svg xmlns=\"http://www.w3.org/2000/svg\" height=\"24px\" viewBox=\"0 -960 960 960\">\n",
              "    <path d=\"M120-120v-720h720v720H120Zm60-500h600v-160H180v160Zm220 220h160v-160H400v160Zm0 220h160v-160H400v160ZM180-400h160v-160H180v160Zm440 0h160v-160H620v160ZM180-180h160v-160H180v160Zm440 0h160v-160H620v160Z\"/>\n",
              "  </svg>\n",
              "    </button>\n",
              "\n",
              "  <style>\n",
              "    .colab-df-container {\n",
              "      display:flex;\n",
              "      gap: 12px;\n",
              "    }\n",
              "\n",
              "    .colab-df-convert {\n",
              "      background-color: #E8F0FE;\n",
              "      border: none;\n",
              "      border-radius: 50%;\n",
              "      cursor: pointer;\n",
              "      display: none;\n",
              "      fill: #1967D2;\n",
              "      height: 32px;\n",
              "      padding: 0 0 0 0;\n",
              "      width: 32px;\n",
              "    }\n",
              "\n",
              "    .colab-df-convert:hover {\n",
              "      background-color: #E2EBFA;\n",
              "      box-shadow: 0px 1px 2px rgba(60, 64, 67, 0.3), 0px 1px 3px 1px rgba(60, 64, 67, 0.15);\n",
              "      fill: #174EA6;\n",
              "    }\n",
              "\n",
              "    .colab-df-buttons div {\n",
              "      margin-bottom: 4px;\n",
              "    }\n",
              "\n",
              "    [theme=dark] .colab-df-convert {\n",
              "      background-color: #3B4455;\n",
              "      fill: #D2E3FC;\n",
              "    }\n",
              "\n",
              "    [theme=dark] .colab-df-convert:hover {\n",
              "      background-color: #434B5C;\n",
              "      box-shadow: 0px 1px 3px 1px rgba(0, 0, 0, 0.15);\n",
              "      filter: drop-shadow(0px 1px 2px rgba(0, 0, 0, 0.3));\n",
              "      fill: #FFFFFF;\n",
              "    }\n",
              "  </style>\n",
              "\n",
              "    <script>\n",
              "      const buttonEl =\n",
              "        document.querySelector('#df-f6df89cb-04dc-4968-9591-383f471eb007 button.colab-df-convert');\n",
              "      buttonEl.style.display =\n",
              "        google.colab.kernel.accessAllowed ? 'block' : 'none';\n",
              "\n",
              "      async function convertToInteractive(key) {\n",
              "        const element = document.querySelector('#df-f6df89cb-04dc-4968-9591-383f471eb007');\n",
              "        const dataTable =\n",
              "          await google.colab.kernel.invokeFunction('convertToInteractive',\n",
              "                                                    [key], {});\n",
              "        if (!dataTable) return;\n",
              "\n",
              "        const docLinkHtml = 'Like what you see? Visit the ' +\n",
              "          '<a target=\"_blank\" href=https://colab.research.google.com/notebooks/data_table.ipynb>data table notebook</a>'\n",
              "          + ' to learn more about interactive tables.';\n",
              "        element.innerHTML = '';\n",
              "        dataTable['output_type'] = 'display_data';\n",
              "        await google.colab.output.renderOutput(dataTable, element);\n",
              "        const docLink = document.createElement('div');\n",
              "        docLink.innerHTML = docLinkHtml;\n",
              "        element.appendChild(docLink);\n",
              "      }\n",
              "    </script>\n",
              "  </div>\n",
              "\n",
              "\n",
              "<div id=\"df-ec4d1928-6bd9-425f-93ba-af57146958e8\">\n",
              "  <button class=\"colab-df-quickchart\" onclick=\"quickchart('df-ec4d1928-6bd9-425f-93ba-af57146958e8')\"\n",
              "            title=\"Suggest charts\"\n",
              "            style=\"display:none;\">\n",
              "\n",
              "<svg xmlns=\"http://www.w3.org/2000/svg\" height=\"24px\"viewBox=\"0 0 24 24\"\n",
              "     width=\"24px\">\n",
              "    <g>\n",
              "        <path d=\"M19 3H5c-1.1 0-2 .9-2 2v14c0 1.1.9 2 2 2h14c1.1 0 2-.9 2-2V5c0-1.1-.9-2-2-2zM9 17H7v-7h2v7zm4 0h-2V7h2v10zm4 0h-2v-4h2v4z\"/>\n",
              "    </g>\n",
              "</svg>\n",
              "  </button>\n",
              "\n",
              "<style>\n",
              "  .colab-df-quickchart {\n",
              "      --bg-color: #E8F0FE;\n",
              "      --fill-color: #1967D2;\n",
              "      --hover-bg-color: #E2EBFA;\n",
              "      --hover-fill-color: #174EA6;\n",
              "      --disabled-fill-color: #AAA;\n",
              "      --disabled-bg-color: #DDD;\n",
              "  }\n",
              "\n",
              "  [theme=dark] .colab-df-quickchart {\n",
              "      --bg-color: #3B4455;\n",
              "      --fill-color: #D2E3FC;\n",
              "      --hover-bg-color: #434B5C;\n",
              "      --hover-fill-color: #FFFFFF;\n",
              "      --disabled-bg-color: #3B4455;\n",
              "      --disabled-fill-color: #666;\n",
              "  }\n",
              "\n",
              "  .colab-df-quickchart {\n",
              "    background-color: var(--bg-color);\n",
              "    border: none;\n",
              "    border-radius: 50%;\n",
              "    cursor: pointer;\n",
              "    display: none;\n",
              "    fill: var(--fill-color);\n",
              "    height: 32px;\n",
              "    padding: 0;\n",
              "    width: 32px;\n",
              "  }\n",
              "\n",
              "  .colab-df-quickchart:hover {\n",
              "    background-color: var(--hover-bg-color);\n",
              "    box-shadow: 0 1px 2px rgba(60, 64, 67, 0.3), 0 1px 3px 1px rgba(60, 64, 67, 0.15);\n",
              "    fill: var(--button-hover-fill-color);\n",
              "  }\n",
              "\n",
              "  .colab-df-quickchart-complete:disabled,\n",
              "  .colab-df-quickchart-complete:disabled:hover {\n",
              "    background-color: var(--disabled-bg-color);\n",
              "    fill: var(--disabled-fill-color);\n",
              "    box-shadow: none;\n",
              "  }\n",
              "\n",
              "  .colab-df-spinner {\n",
              "    border: 2px solid var(--fill-color);\n",
              "    border-color: transparent;\n",
              "    border-bottom-color: var(--fill-color);\n",
              "    animation:\n",
              "      spin 1s steps(1) infinite;\n",
              "  }\n",
              "\n",
              "  @keyframes spin {\n",
              "    0% {\n",
              "      border-color: transparent;\n",
              "      border-bottom-color: var(--fill-color);\n",
              "      border-left-color: var(--fill-color);\n",
              "    }\n",
              "    20% {\n",
              "      border-color: transparent;\n",
              "      border-left-color: var(--fill-color);\n",
              "      border-top-color: var(--fill-color);\n",
              "    }\n",
              "    30% {\n",
              "      border-color: transparent;\n",
              "      border-left-color: var(--fill-color);\n",
              "      border-top-color: var(--fill-color);\n",
              "      border-right-color: var(--fill-color);\n",
              "    }\n",
              "    40% {\n",
              "      border-color: transparent;\n",
              "      border-right-color: var(--fill-color);\n",
              "      border-top-color: var(--fill-color);\n",
              "    }\n",
              "    60% {\n",
              "      border-color: transparent;\n",
              "      border-right-color: var(--fill-color);\n",
              "    }\n",
              "    80% {\n",
              "      border-color: transparent;\n",
              "      border-right-color: var(--fill-color);\n",
              "      border-bottom-color: var(--fill-color);\n",
              "    }\n",
              "    90% {\n",
              "      border-color: transparent;\n",
              "      border-bottom-color: var(--fill-color);\n",
              "    }\n",
              "  }\n",
              "</style>\n",
              "\n",
              "  <script>\n",
              "    async function quickchart(key) {\n",
              "      const quickchartButtonEl =\n",
              "        document.querySelector('#' + key + ' button');\n",
              "      quickchartButtonEl.disabled = true;  // To prevent multiple clicks.\n",
              "      quickchartButtonEl.classList.add('colab-df-spinner');\n",
              "      try {\n",
              "        const charts = await google.colab.kernel.invokeFunction(\n",
              "            'suggestCharts', [key], {});\n",
              "      } catch (error) {\n",
              "        console.error('Error during call to suggestCharts:', error);\n",
              "      }\n",
              "      quickchartButtonEl.classList.remove('colab-df-spinner');\n",
              "      quickchartButtonEl.classList.add('colab-df-quickchart-complete');\n",
              "    }\n",
              "    (() => {\n",
              "      let quickchartButtonEl =\n",
              "        document.querySelector('#df-ec4d1928-6bd9-425f-93ba-af57146958e8 button');\n",
              "      quickchartButtonEl.style.display =\n",
              "        google.colab.kernel.accessAllowed ? 'block' : 'none';\n",
              "    })();\n",
              "  </script>\n",
              "</div>\n",
              "\n",
              "  <div id=\"id_63cbb834-bce7-403d-9a2c-8e729e7ef6ad\">\n",
              "    <style>\n",
              "      .colab-df-generate {\n",
              "        background-color: #E8F0FE;\n",
              "        border: none;\n",
              "        border-radius: 50%;\n",
              "        cursor: pointer;\n",
              "        display: none;\n",
              "        fill: #1967D2;\n",
              "        height: 32px;\n",
              "        padding: 0 0 0 0;\n",
              "        width: 32px;\n",
              "      }\n",
              "\n",
              "      .colab-df-generate:hover {\n",
              "        background-color: #E2EBFA;\n",
              "        box-shadow: 0px 1px 2px rgba(60, 64, 67, 0.3), 0px 1px 3px 1px rgba(60, 64, 67, 0.15);\n",
              "        fill: #174EA6;\n",
              "      }\n",
              "\n",
              "      [theme=dark] .colab-df-generate {\n",
              "        background-color: #3B4455;\n",
              "        fill: #D2E3FC;\n",
              "      }\n",
              "\n",
              "      [theme=dark] .colab-df-generate:hover {\n",
              "        background-color: #434B5C;\n",
              "        box-shadow: 0px 1px 3px 1px rgba(0, 0, 0, 0.15);\n",
              "        filter: drop-shadow(0px 1px 2px rgba(0, 0, 0, 0.3));\n",
              "        fill: #FFFFFF;\n",
              "      }\n",
              "    </style>\n",
              "    <button class=\"colab-df-generate\" onclick=\"generateWithVariable('df_estudo_1')\"\n",
              "            title=\"Generate code using this dataframe.\"\n",
              "            style=\"display:none;\">\n",
              "\n",
              "  <svg xmlns=\"http://www.w3.org/2000/svg\" height=\"24px\"viewBox=\"0 0 24 24\"\n",
              "       width=\"24px\">\n",
              "    <path d=\"M7,19H8.4L18.45,9,17,7.55,7,17.6ZM5,21V16.75L18.45,3.32a2,2,0,0,1,2.83,0l1.4,1.43a1.91,1.91,0,0,1,.58,1.4,1.91,1.91,0,0,1-.58,1.4L9.25,21ZM18.45,9,17,7.55Zm-12,3A5.31,5.31,0,0,0,4.9,8.1,5.31,5.31,0,0,0,1,6.5,5.31,5.31,0,0,0,4.9,4.9,5.31,5.31,0,0,0,6.5,1,5.31,5.31,0,0,0,8.1,4.9,5.31,5.31,0,0,0,12,6.5,5.46,5.46,0,0,0,6.5,12Z\"/>\n",
              "  </svg>\n",
              "    </button>\n",
              "    <script>\n",
              "      (() => {\n",
              "      const buttonEl =\n",
              "        document.querySelector('#id_63cbb834-bce7-403d-9a2c-8e729e7ef6ad button.colab-df-generate');\n",
              "      buttonEl.style.display =\n",
              "        google.colab.kernel.accessAllowed ? 'block' : 'none';\n",
              "\n",
              "      buttonEl.onclick = () => {\n",
              "        google.colab.notebook.generateWithVariable('df_estudo_1');\n",
              "      }\n",
              "      })();\n",
              "    </script>\n",
              "  </div>\n",
              "\n",
              "    </div>\n",
              "  </div>\n"
            ],
            "application/vnd.google.colaboratory.intrinsic+json": {
              "type": "dataframe",
              "variable_name": "df_estudo_1",
              "summary": "{\n  \"name\": \"df_estudo_1\",\n  \"rows\": 10,\n  \"fields\": [\n    {\n      \"column\": \"preco\",\n      \"properties\": {\n        \"dtype\": \"number\",\n        \"std\": 23,\n        \"min\": 38,\n        \"max\": 110,\n        \"num_unique_values\": 10,\n        \"samples\": [\n          95,\n          42,\n          63\n        ],\n        \"semantic_type\": \"\",\n        \"description\": \"\"\n      }\n    },\n    {\n      \"column\": \"demanda\",\n      \"properties\": {\n        \"dtype\": \"number\",\n        \"std\": 47,\n        \"min\": 208,\n        \"max\": 350,\n        \"num_unique_values\": 10,\n        \"samples\": [\n          215,\n          325,\n          246\n        ],\n        \"semantic_type\": \"\",\n        \"description\": \"\"\n      }\n    },\n    {\n      \"column\": \"previsao\",\n      \"properties\": {\n        \"dtype\": \"number\",\n        \"std\": 41.58378423269233,\n        \"min\": 181.0,\n        \"max\": 311.0,\n        \"num_unique_values\": 10,\n        \"samples\": [\n          208.0,\n          304.0,\n          266.0\n        ],\n        \"semantic_type\": \"\",\n        \"description\": \"\"\n      }\n    }\n  ]\n}"
            }
          },
          "metadata": {},
          "execution_count": 25
        }
      ]
    },
    {
      "cell_type": "code",
      "source": [
        "df_estudo_1['erro'] = df_estudo_1['previsao'] - df_estudo_1['demanda']\n",
        "\n",
        "df_estudo_1"
      ],
      "metadata": {
        "id": "l-hRQZb1hHsN",
        "outputId": "d44c6f87-9a74-497c-d794-02f5a44627bd",
        "colab": {
          "base_uri": "https://localhost:8080/",
          "height": 363
        }
      },
      "execution_count": 26,
      "outputs": [
        {
          "output_type": "execute_result",
          "data": {
            "text/plain": [
              "   preco  demanda  previsao  erro\n",
              "0     38      350     311.0 -39.0\n",
              "1     42      325     304.0 -21.0\n",
              "2     50      297     289.0  -8.0\n",
              "3     56      270     279.0   9.0\n",
              "4     59      256     273.0  17.0\n",
              "5     63      246     266.0  20.0\n",
              "6     70      238     253.0  15.0\n",
              "7     80      223     235.0  12.0\n",
              "8     95      215     208.0  -7.0\n",
              "9    110      208     181.0 -27.0"
            ],
            "text/html": [
              "\n",
              "  <div id=\"df-9d53050e-1c11-4011-bcb8-ff9fdce5d400\" class=\"colab-df-container\">\n",
              "    <div>\n",
              "<style scoped>\n",
              "    .dataframe tbody tr th:only-of-type {\n",
              "        vertical-align: middle;\n",
              "    }\n",
              "\n",
              "    .dataframe tbody tr th {\n",
              "        vertical-align: top;\n",
              "    }\n",
              "\n",
              "    .dataframe thead th {\n",
              "        text-align: right;\n",
              "    }\n",
              "</style>\n",
              "<table border=\"1\" class=\"dataframe\">\n",
              "  <thead>\n",
              "    <tr style=\"text-align: right;\">\n",
              "      <th></th>\n",
              "      <th>preco</th>\n",
              "      <th>demanda</th>\n",
              "      <th>previsao</th>\n",
              "      <th>erro</th>\n",
              "    </tr>\n",
              "  </thead>\n",
              "  <tbody>\n",
              "    <tr>\n",
              "      <th>0</th>\n",
              "      <td>38</td>\n",
              "      <td>350</td>\n",
              "      <td>311.0</td>\n",
              "      <td>-39.0</td>\n",
              "    </tr>\n",
              "    <tr>\n",
              "      <th>1</th>\n",
              "      <td>42</td>\n",
              "      <td>325</td>\n",
              "      <td>304.0</td>\n",
              "      <td>-21.0</td>\n",
              "    </tr>\n",
              "    <tr>\n",
              "      <th>2</th>\n",
              "      <td>50</td>\n",
              "      <td>297</td>\n",
              "      <td>289.0</td>\n",
              "      <td>-8.0</td>\n",
              "    </tr>\n",
              "    <tr>\n",
              "      <th>3</th>\n",
              "      <td>56</td>\n",
              "      <td>270</td>\n",
              "      <td>279.0</td>\n",
              "      <td>9.0</td>\n",
              "    </tr>\n",
              "    <tr>\n",
              "      <th>4</th>\n",
              "      <td>59</td>\n",
              "      <td>256</td>\n",
              "      <td>273.0</td>\n",
              "      <td>17.0</td>\n",
              "    </tr>\n",
              "    <tr>\n",
              "      <th>5</th>\n",
              "      <td>63</td>\n",
              "      <td>246</td>\n",
              "      <td>266.0</td>\n",
              "      <td>20.0</td>\n",
              "    </tr>\n",
              "    <tr>\n",
              "      <th>6</th>\n",
              "      <td>70</td>\n",
              "      <td>238</td>\n",
              "      <td>253.0</td>\n",
              "      <td>15.0</td>\n",
              "    </tr>\n",
              "    <tr>\n",
              "      <th>7</th>\n",
              "      <td>80</td>\n",
              "      <td>223</td>\n",
              "      <td>235.0</td>\n",
              "      <td>12.0</td>\n",
              "    </tr>\n",
              "    <tr>\n",
              "      <th>8</th>\n",
              "      <td>95</td>\n",
              "      <td>215</td>\n",
              "      <td>208.0</td>\n",
              "      <td>-7.0</td>\n",
              "    </tr>\n",
              "    <tr>\n",
              "      <th>9</th>\n",
              "      <td>110</td>\n",
              "      <td>208</td>\n",
              "      <td>181.0</td>\n",
              "      <td>-27.0</td>\n",
              "    </tr>\n",
              "  </tbody>\n",
              "</table>\n",
              "</div>\n",
              "    <div class=\"colab-df-buttons\">\n",
              "\n",
              "  <div class=\"colab-df-container\">\n",
              "    <button class=\"colab-df-convert\" onclick=\"convertToInteractive('df-9d53050e-1c11-4011-bcb8-ff9fdce5d400')\"\n",
              "            title=\"Convert this dataframe to an interactive table.\"\n",
              "            style=\"display:none;\">\n",
              "\n",
              "  <svg xmlns=\"http://www.w3.org/2000/svg\" height=\"24px\" viewBox=\"0 -960 960 960\">\n",
              "    <path d=\"M120-120v-720h720v720H120Zm60-500h600v-160H180v160Zm220 220h160v-160H400v160Zm0 220h160v-160H400v160ZM180-400h160v-160H180v160Zm440 0h160v-160H620v160ZM180-180h160v-160H180v160Zm440 0h160v-160H620v160Z\"/>\n",
              "  </svg>\n",
              "    </button>\n",
              "\n",
              "  <style>\n",
              "    .colab-df-container {\n",
              "      display:flex;\n",
              "      gap: 12px;\n",
              "    }\n",
              "\n",
              "    .colab-df-convert {\n",
              "      background-color: #E8F0FE;\n",
              "      border: none;\n",
              "      border-radius: 50%;\n",
              "      cursor: pointer;\n",
              "      display: none;\n",
              "      fill: #1967D2;\n",
              "      height: 32px;\n",
              "      padding: 0 0 0 0;\n",
              "      width: 32px;\n",
              "    }\n",
              "\n",
              "    .colab-df-convert:hover {\n",
              "      background-color: #E2EBFA;\n",
              "      box-shadow: 0px 1px 2px rgba(60, 64, 67, 0.3), 0px 1px 3px 1px rgba(60, 64, 67, 0.15);\n",
              "      fill: #174EA6;\n",
              "    }\n",
              "\n",
              "    .colab-df-buttons div {\n",
              "      margin-bottom: 4px;\n",
              "    }\n",
              "\n",
              "    [theme=dark] .colab-df-convert {\n",
              "      background-color: #3B4455;\n",
              "      fill: #D2E3FC;\n",
              "    }\n",
              "\n",
              "    [theme=dark] .colab-df-convert:hover {\n",
              "      background-color: #434B5C;\n",
              "      box-shadow: 0px 1px 3px 1px rgba(0, 0, 0, 0.15);\n",
              "      filter: drop-shadow(0px 1px 2px rgba(0, 0, 0, 0.3));\n",
              "      fill: #FFFFFF;\n",
              "    }\n",
              "  </style>\n",
              "\n",
              "    <script>\n",
              "      const buttonEl =\n",
              "        document.querySelector('#df-9d53050e-1c11-4011-bcb8-ff9fdce5d400 button.colab-df-convert');\n",
              "      buttonEl.style.display =\n",
              "        google.colab.kernel.accessAllowed ? 'block' : 'none';\n",
              "\n",
              "      async function convertToInteractive(key) {\n",
              "        const element = document.querySelector('#df-9d53050e-1c11-4011-bcb8-ff9fdce5d400');\n",
              "        const dataTable =\n",
              "          await google.colab.kernel.invokeFunction('convertToInteractive',\n",
              "                                                    [key], {});\n",
              "        if (!dataTable) return;\n",
              "\n",
              "        const docLinkHtml = 'Like what you see? Visit the ' +\n",
              "          '<a target=\"_blank\" href=https://colab.research.google.com/notebooks/data_table.ipynb>data table notebook</a>'\n",
              "          + ' to learn more about interactive tables.';\n",
              "        element.innerHTML = '';\n",
              "        dataTable['output_type'] = 'display_data';\n",
              "        await google.colab.output.renderOutput(dataTable, element);\n",
              "        const docLink = document.createElement('div');\n",
              "        docLink.innerHTML = docLinkHtml;\n",
              "        element.appendChild(docLink);\n",
              "      }\n",
              "    </script>\n",
              "  </div>\n",
              "\n",
              "\n",
              "<div id=\"df-4d624be6-ee87-45ee-b1b3-8c57cebcb912\">\n",
              "  <button class=\"colab-df-quickchart\" onclick=\"quickchart('df-4d624be6-ee87-45ee-b1b3-8c57cebcb912')\"\n",
              "            title=\"Suggest charts\"\n",
              "            style=\"display:none;\">\n",
              "\n",
              "<svg xmlns=\"http://www.w3.org/2000/svg\" height=\"24px\"viewBox=\"0 0 24 24\"\n",
              "     width=\"24px\">\n",
              "    <g>\n",
              "        <path d=\"M19 3H5c-1.1 0-2 .9-2 2v14c0 1.1.9 2 2 2h14c1.1 0 2-.9 2-2V5c0-1.1-.9-2-2-2zM9 17H7v-7h2v7zm4 0h-2V7h2v10zm4 0h-2v-4h2v4z\"/>\n",
              "    </g>\n",
              "</svg>\n",
              "  </button>\n",
              "\n",
              "<style>\n",
              "  .colab-df-quickchart {\n",
              "      --bg-color: #E8F0FE;\n",
              "      --fill-color: #1967D2;\n",
              "      --hover-bg-color: #E2EBFA;\n",
              "      --hover-fill-color: #174EA6;\n",
              "      --disabled-fill-color: #AAA;\n",
              "      --disabled-bg-color: #DDD;\n",
              "  }\n",
              "\n",
              "  [theme=dark] .colab-df-quickchart {\n",
              "      --bg-color: #3B4455;\n",
              "      --fill-color: #D2E3FC;\n",
              "      --hover-bg-color: #434B5C;\n",
              "      --hover-fill-color: #FFFFFF;\n",
              "      --disabled-bg-color: #3B4455;\n",
              "      --disabled-fill-color: #666;\n",
              "  }\n",
              "\n",
              "  .colab-df-quickchart {\n",
              "    background-color: var(--bg-color);\n",
              "    border: none;\n",
              "    border-radius: 50%;\n",
              "    cursor: pointer;\n",
              "    display: none;\n",
              "    fill: var(--fill-color);\n",
              "    height: 32px;\n",
              "    padding: 0;\n",
              "    width: 32px;\n",
              "  }\n",
              "\n",
              "  .colab-df-quickchart:hover {\n",
              "    background-color: var(--hover-bg-color);\n",
              "    box-shadow: 0 1px 2px rgba(60, 64, 67, 0.3), 0 1px 3px 1px rgba(60, 64, 67, 0.15);\n",
              "    fill: var(--button-hover-fill-color);\n",
              "  }\n",
              "\n",
              "  .colab-df-quickchart-complete:disabled,\n",
              "  .colab-df-quickchart-complete:disabled:hover {\n",
              "    background-color: var(--disabled-bg-color);\n",
              "    fill: var(--disabled-fill-color);\n",
              "    box-shadow: none;\n",
              "  }\n",
              "\n",
              "  .colab-df-spinner {\n",
              "    border: 2px solid var(--fill-color);\n",
              "    border-color: transparent;\n",
              "    border-bottom-color: var(--fill-color);\n",
              "    animation:\n",
              "      spin 1s steps(1) infinite;\n",
              "  }\n",
              "\n",
              "  @keyframes spin {\n",
              "    0% {\n",
              "      border-color: transparent;\n",
              "      border-bottom-color: var(--fill-color);\n",
              "      border-left-color: var(--fill-color);\n",
              "    }\n",
              "    20% {\n",
              "      border-color: transparent;\n",
              "      border-left-color: var(--fill-color);\n",
              "      border-top-color: var(--fill-color);\n",
              "    }\n",
              "    30% {\n",
              "      border-color: transparent;\n",
              "      border-left-color: var(--fill-color);\n",
              "      border-top-color: var(--fill-color);\n",
              "      border-right-color: var(--fill-color);\n",
              "    }\n",
              "    40% {\n",
              "      border-color: transparent;\n",
              "      border-right-color: var(--fill-color);\n",
              "      border-top-color: var(--fill-color);\n",
              "    }\n",
              "    60% {\n",
              "      border-color: transparent;\n",
              "      border-right-color: var(--fill-color);\n",
              "    }\n",
              "    80% {\n",
              "      border-color: transparent;\n",
              "      border-right-color: var(--fill-color);\n",
              "      border-bottom-color: var(--fill-color);\n",
              "    }\n",
              "    90% {\n",
              "      border-color: transparent;\n",
              "      border-bottom-color: var(--fill-color);\n",
              "    }\n",
              "  }\n",
              "</style>\n",
              "\n",
              "  <script>\n",
              "    async function quickchart(key) {\n",
              "      const quickchartButtonEl =\n",
              "        document.querySelector('#' + key + ' button');\n",
              "      quickchartButtonEl.disabled = true;  // To prevent multiple clicks.\n",
              "      quickchartButtonEl.classList.add('colab-df-spinner');\n",
              "      try {\n",
              "        const charts = await google.colab.kernel.invokeFunction(\n",
              "            'suggestCharts', [key], {});\n",
              "      } catch (error) {\n",
              "        console.error('Error during call to suggestCharts:', error);\n",
              "      }\n",
              "      quickchartButtonEl.classList.remove('colab-df-spinner');\n",
              "      quickchartButtonEl.classList.add('colab-df-quickchart-complete');\n",
              "    }\n",
              "    (() => {\n",
              "      let quickchartButtonEl =\n",
              "        document.querySelector('#df-4d624be6-ee87-45ee-b1b3-8c57cebcb912 button');\n",
              "      quickchartButtonEl.style.display =\n",
              "        google.colab.kernel.accessAllowed ? 'block' : 'none';\n",
              "    })();\n",
              "  </script>\n",
              "</div>\n",
              "\n",
              "  <div id=\"id_5ffbff67-054e-4cf5-8c30-54b447b19b9e\">\n",
              "    <style>\n",
              "      .colab-df-generate {\n",
              "        background-color: #E8F0FE;\n",
              "        border: none;\n",
              "        border-radius: 50%;\n",
              "        cursor: pointer;\n",
              "        display: none;\n",
              "        fill: #1967D2;\n",
              "        height: 32px;\n",
              "        padding: 0 0 0 0;\n",
              "        width: 32px;\n",
              "      }\n",
              "\n",
              "      .colab-df-generate:hover {\n",
              "        background-color: #E2EBFA;\n",
              "        box-shadow: 0px 1px 2px rgba(60, 64, 67, 0.3), 0px 1px 3px 1px rgba(60, 64, 67, 0.15);\n",
              "        fill: #174EA6;\n",
              "      }\n",
              "\n",
              "      [theme=dark] .colab-df-generate {\n",
              "        background-color: #3B4455;\n",
              "        fill: #D2E3FC;\n",
              "      }\n",
              "\n",
              "      [theme=dark] .colab-df-generate:hover {\n",
              "        background-color: #434B5C;\n",
              "        box-shadow: 0px 1px 3px 1px rgba(0, 0, 0, 0.15);\n",
              "        filter: drop-shadow(0px 1px 2px rgba(0, 0, 0, 0.3));\n",
              "        fill: #FFFFFF;\n",
              "      }\n",
              "    </style>\n",
              "    <button class=\"colab-df-generate\" onclick=\"generateWithVariable('df_estudo_1')\"\n",
              "            title=\"Generate code using this dataframe.\"\n",
              "            style=\"display:none;\">\n",
              "\n",
              "  <svg xmlns=\"http://www.w3.org/2000/svg\" height=\"24px\"viewBox=\"0 0 24 24\"\n",
              "       width=\"24px\">\n",
              "    <path d=\"M7,19H8.4L18.45,9,17,7.55,7,17.6ZM5,21V16.75L18.45,3.32a2,2,0,0,1,2.83,0l1.4,1.43a1.91,1.91,0,0,1,.58,1.4,1.91,1.91,0,0,1-.58,1.4L9.25,21ZM18.45,9,17,7.55Zm-12,3A5.31,5.31,0,0,0,4.9,8.1,5.31,5.31,0,0,0,1,6.5,5.31,5.31,0,0,0,4.9,4.9,5.31,5.31,0,0,0,6.5,1,5.31,5.31,0,0,0,8.1,4.9,5.31,5.31,0,0,0,12,6.5,5.46,5.46,0,0,0,6.5,12Z\"/>\n",
              "  </svg>\n",
              "    </button>\n",
              "    <script>\n",
              "      (() => {\n",
              "      const buttonEl =\n",
              "        document.querySelector('#id_5ffbff67-054e-4cf5-8c30-54b447b19b9e button.colab-df-generate');\n",
              "      buttonEl.style.display =\n",
              "        google.colab.kernel.accessAllowed ? 'block' : 'none';\n",
              "\n",
              "      buttonEl.onclick = () => {\n",
              "        google.colab.notebook.generateWithVariable('df_estudo_1');\n",
              "      }\n",
              "      })();\n",
              "    </script>\n",
              "  </div>\n",
              "\n",
              "    </div>\n",
              "  </div>\n"
            ],
            "application/vnd.google.colaboratory.intrinsic+json": {
              "type": "dataframe",
              "variable_name": "df_estudo_1",
              "summary": "{\n  \"name\": \"df_estudo_1\",\n  \"rows\": 10,\n  \"fields\": [\n    {\n      \"column\": \"preco\",\n      \"properties\": {\n        \"dtype\": \"number\",\n        \"std\": 23,\n        \"min\": 38,\n        \"max\": 110,\n        \"num_unique_values\": 10,\n        \"samples\": [\n          95,\n          42,\n          63\n        ],\n        \"semantic_type\": \"\",\n        \"description\": \"\"\n      }\n    },\n    {\n      \"column\": \"demanda\",\n      \"properties\": {\n        \"dtype\": \"number\",\n        \"std\": 47,\n        \"min\": 208,\n        \"max\": 350,\n        \"num_unique_values\": 10,\n        \"samples\": [\n          215,\n          325,\n          246\n        ],\n        \"semantic_type\": \"\",\n        \"description\": \"\"\n      }\n    },\n    {\n      \"column\": \"previsao\",\n      \"properties\": {\n        \"dtype\": \"number\",\n        \"std\": 41.58378423269233,\n        \"min\": 181.0,\n        \"max\": 311.0,\n        \"num_unique_values\": 10,\n        \"samples\": [\n          208.0,\n          304.0,\n          266.0\n        ],\n        \"semantic_type\": \"\",\n        \"description\": \"\"\n      }\n    },\n    {\n      \"column\": \"erro\",\n      \"properties\": {\n        \"dtype\": \"number\",\n        \"std\": 20.706681691344624,\n        \"min\": -39.0,\n        \"max\": 20.0,\n        \"num_unique_values\": 10,\n        \"samples\": [\n          -7.0,\n          -21.0,\n          20.0\n        ],\n        \"semantic_type\": \"\",\n        \"description\": \"\"\n      }\n    }\n  ]\n}"
            }
          },
          "metadata": {},
          "execution_count": 26
        }
      ]
    },
    {
      "cell_type": "code",
      "source": [
        "df_estudo_1['erro'] = abs(df_estudo_1['previsao'] - df_estudo_1['demanda'])\n",
        "\n",
        "df_estudo_1"
      ],
      "metadata": {
        "id": "9LvgD6HEhWzg",
        "outputId": "400e2e17-482e-4b50-c443-73aece4ec514",
        "colab": {
          "base_uri": "https://localhost:8080/",
          "height": 363
        }
      },
      "execution_count": 27,
      "outputs": [
        {
          "output_type": "execute_result",
          "data": {
            "text/plain": [
              "   preco  demanda  previsao  erro\n",
              "0     38      350     311.0  39.0\n",
              "1     42      325     304.0  21.0\n",
              "2     50      297     289.0   8.0\n",
              "3     56      270     279.0   9.0\n",
              "4     59      256     273.0  17.0\n",
              "5     63      246     266.0  20.0\n",
              "6     70      238     253.0  15.0\n",
              "7     80      223     235.0  12.0\n",
              "8     95      215     208.0   7.0\n",
              "9    110      208     181.0  27.0"
            ],
            "text/html": [
              "\n",
              "  <div id=\"df-6dd8cc45-9516-4793-860d-0e417dc45f4c\" class=\"colab-df-container\">\n",
              "    <div>\n",
              "<style scoped>\n",
              "    .dataframe tbody tr th:only-of-type {\n",
              "        vertical-align: middle;\n",
              "    }\n",
              "\n",
              "    .dataframe tbody tr th {\n",
              "        vertical-align: top;\n",
              "    }\n",
              "\n",
              "    .dataframe thead th {\n",
              "        text-align: right;\n",
              "    }\n",
              "</style>\n",
              "<table border=\"1\" class=\"dataframe\">\n",
              "  <thead>\n",
              "    <tr style=\"text-align: right;\">\n",
              "      <th></th>\n",
              "      <th>preco</th>\n",
              "      <th>demanda</th>\n",
              "      <th>previsao</th>\n",
              "      <th>erro</th>\n",
              "    </tr>\n",
              "  </thead>\n",
              "  <tbody>\n",
              "    <tr>\n",
              "      <th>0</th>\n",
              "      <td>38</td>\n",
              "      <td>350</td>\n",
              "      <td>311.0</td>\n",
              "      <td>39.0</td>\n",
              "    </tr>\n",
              "    <tr>\n",
              "      <th>1</th>\n",
              "      <td>42</td>\n",
              "      <td>325</td>\n",
              "      <td>304.0</td>\n",
              "      <td>21.0</td>\n",
              "    </tr>\n",
              "    <tr>\n",
              "      <th>2</th>\n",
              "      <td>50</td>\n",
              "      <td>297</td>\n",
              "      <td>289.0</td>\n",
              "      <td>8.0</td>\n",
              "    </tr>\n",
              "    <tr>\n",
              "      <th>3</th>\n",
              "      <td>56</td>\n",
              "      <td>270</td>\n",
              "      <td>279.0</td>\n",
              "      <td>9.0</td>\n",
              "    </tr>\n",
              "    <tr>\n",
              "      <th>4</th>\n",
              "      <td>59</td>\n",
              "      <td>256</td>\n",
              "      <td>273.0</td>\n",
              "      <td>17.0</td>\n",
              "    </tr>\n",
              "    <tr>\n",
              "      <th>5</th>\n",
              "      <td>63</td>\n",
              "      <td>246</td>\n",
              "      <td>266.0</td>\n",
              "      <td>20.0</td>\n",
              "    </tr>\n",
              "    <tr>\n",
              "      <th>6</th>\n",
              "      <td>70</td>\n",
              "      <td>238</td>\n",
              "      <td>253.0</td>\n",
              "      <td>15.0</td>\n",
              "    </tr>\n",
              "    <tr>\n",
              "      <th>7</th>\n",
              "      <td>80</td>\n",
              "      <td>223</td>\n",
              "      <td>235.0</td>\n",
              "      <td>12.0</td>\n",
              "    </tr>\n",
              "    <tr>\n",
              "      <th>8</th>\n",
              "      <td>95</td>\n",
              "      <td>215</td>\n",
              "      <td>208.0</td>\n",
              "      <td>7.0</td>\n",
              "    </tr>\n",
              "    <tr>\n",
              "      <th>9</th>\n",
              "      <td>110</td>\n",
              "      <td>208</td>\n",
              "      <td>181.0</td>\n",
              "      <td>27.0</td>\n",
              "    </tr>\n",
              "  </tbody>\n",
              "</table>\n",
              "</div>\n",
              "    <div class=\"colab-df-buttons\">\n",
              "\n",
              "  <div class=\"colab-df-container\">\n",
              "    <button class=\"colab-df-convert\" onclick=\"convertToInteractive('df-6dd8cc45-9516-4793-860d-0e417dc45f4c')\"\n",
              "            title=\"Convert this dataframe to an interactive table.\"\n",
              "            style=\"display:none;\">\n",
              "\n",
              "  <svg xmlns=\"http://www.w3.org/2000/svg\" height=\"24px\" viewBox=\"0 -960 960 960\">\n",
              "    <path d=\"M120-120v-720h720v720H120Zm60-500h600v-160H180v160Zm220 220h160v-160H400v160Zm0 220h160v-160H400v160ZM180-400h160v-160H180v160Zm440 0h160v-160H620v160ZM180-180h160v-160H180v160Zm440 0h160v-160H620v160Z\"/>\n",
              "  </svg>\n",
              "    </button>\n",
              "\n",
              "  <style>\n",
              "    .colab-df-container {\n",
              "      display:flex;\n",
              "      gap: 12px;\n",
              "    }\n",
              "\n",
              "    .colab-df-convert {\n",
              "      background-color: #E8F0FE;\n",
              "      border: none;\n",
              "      border-radius: 50%;\n",
              "      cursor: pointer;\n",
              "      display: none;\n",
              "      fill: #1967D2;\n",
              "      height: 32px;\n",
              "      padding: 0 0 0 0;\n",
              "      width: 32px;\n",
              "    }\n",
              "\n",
              "    .colab-df-convert:hover {\n",
              "      background-color: #E2EBFA;\n",
              "      box-shadow: 0px 1px 2px rgba(60, 64, 67, 0.3), 0px 1px 3px 1px rgba(60, 64, 67, 0.15);\n",
              "      fill: #174EA6;\n",
              "    }\n",
              "\n",
              "    .colab-df-buttons div {\n",
              "      margin-bottom: 4px;\n",
              "    }\n",
              "\n",
              "    [theme=dark] .colab-df-convert {\n",
              "      background-color: #3B4455;\n",
              "      fill: #D2E3FC;\n",
              "    }\n",
              "\n",
              "    [theme=dark] .colab-df-convert:hover {\n",
              "      background-color: #434B5C;\n",
              "      box-shadow: 0px 1px 3px 1px rgba(0, 0, 0, 0.15);\n",
              "      filter: drop-shadow(0px 1px 2px rgba(0, 0, 0, 0.3));\n",
              "      fill: #FFFFFF;\n",
              "    }\n",
              "  </style>\n",
              "\n",
              "    <script>\n",
              "      const buttonEl =\n",
              "        document.querySelector('#df-6dd8cc45-9516-4793-860d-0e417dc45f4c button.colab-df-convert');\n",
              "      buttonEl.style.display =\n",
              "        google.colab.kernel.accessAllowed ? 'block' : 'none';\n",
              "\n",
              "      async function convertToInteractive(key) {\n",
              "        const element = document.querySelector('#df-6dd8cc45-9516-4793-860d-0e417dc45f4c');\n",
              "        const dataTable =\n",
              "          await google.colab.kernel.invokeFunction('convertToInteractive',\n",
              "                                                    [key], {});\n",
              "        if (!dataTable) return;\n",
              "\n",
              "        const docLinkHtml = 'Like what you see? Visit the ' +\n",
              "          '<a target=\"_blank\" href=https://colab.research.google.com/notebooks/data_table.ipynb>data table notebook</a>'\n",
              "          + ' to learn more about interactive tables.';\n",
              "        element.innerHTML = '';\n",
              "        dataTable['output_type'] = 'display_data';\n",
              "        await google.colab.output.renderOutput(dataTable, element);\n",
              "        const docLink = document.createElement('div');\n",
              "        docLink.innerHTML = docLinkHtml;\n",
              "        element.appendChild(docLink);\n",
              "      }\n",
              "    </script>\n",
              "  </div>\n",
              "\n",
              "\n",
              "<div id=\"df-692c8bd9-8ec0-4c1d-a025-acdcb8c9cad4\">\n",
              "  <button class=\"colab-df-quickchart\" onclick=\"quickchart('df-692c8bd9-8ec0-4c1d-a025-acdcb8c9cad4')\"\n",
              "            title=\"Suggest charts\"\n",
              "            style=\"display:none;\">\n",
              "\n",
              "<svg xmlns=\"http://www.w3.org/2000/svg\" height=\"24px\"viewBox=\"0 0 24 24\"\n",
              "     width=\"24px\">\n",
              "    <g>\n",
              "        <path d=\"M19 3H5c-1.1 0-2 .9-2 2v14c0 1.1.9 2 2 2h14c1.1 0 2-.9 2-2V5c0-1.1-.9-2-2-2zM9 17H7v-7h2v7zm4 0h-2V7h2v10zm4 0h-2v-4h2v4z\"/>\n",
              "    </g>\n",
              "</svg>\n",
              "  </button>\n",
              "\n",
              "<style>\n",
              "  .colab-df-quickchart {\n",
              "      --bg-color: #E8F0FE;\n",
              "      --fill-color: #1967D2;\n",
              "      --hover-bg-color: #E2EBFA;\n",
              "      --hover-fill-color: #174EA6;\n",
              "      --disabled-fill-color: #AAA;\n",
              "      --disabled-bg-color: #DDD;\n",
              "  }\n",
              "\n",
              "  [theme=dark] .colab-df-quickchart {\n",
              "      --bg-color: #3B4455;\n",
              "      --fill-color: #D2E3FC;\n",
              "      --hover-bg-color: #434B5C;\n",
              "      --hover-fill-color: #FFFFFF;\n",
              "      --disabled-bg-color: #3B4455;\n",
              "      --disabled-fill-color: #666;\n",
              "  }\n",
              "\n",
              "  .colab-df-quickchart {\n",
              "    background-color: var(--bg-color);\n",
              "    border: none;\n",
              "    border-radius: 50%;\n",
              "    cursor: pointer;\n",
              "    display: none;\n",
              "    fill: var(--fill-color);\n",
              "    height: 32px;\n",
              "    padding: 0;\n",
              "    width: 32px;\n",
              "  }\n",
              "\n",
              "  .colab-df-quickchart:hover {\n",
              "    background-color: var(--hover-bg-color);\n",
              "    box-shadow: 0 1px 2px rgba(60, 64, 67, 0.3), 0 1px 3px 1px rgba(60, 64, 67, 0.15);\n",
              "    fill: var(--button-hover-fill-color);\n",
              "  }\n",
              "\n",
              "  .colab-df-quickchart-complete:disabled,\n",
              "  .colab-df-quickchart-complete:disabled:hover {\n",
              "    background-color: var(--disabled-bg-color);\n",
              "    fill: var(--disabled-fill-color);\n",
              "    box-shadow: none;\n",
              "  }\n",
              "\n",
              "  .colab-df-spinner {\n",
              "    border: 2px solid var(--fill-color);\n",
              "    border-color: transparent;\n",
              "    border-bottom-color: var(--fill-color);\n",
              "    animation:\n",
              "      spin 1s steps(1) infinite;\n",
              "  }\n",
              "\n",
              "  @keyframes spin {\n",
              "    0% {\n",
              "      border-color: transparent;\n",
              "      border-bottom-color: var(--fill-color);\n",
              "      border-left-color: var(--fill-color);\n",
              "    }\n",
              "    20% {\n",
              "      border-color: transparent;\n",
              "      border-left-color: var(--fill-color);\n",
              "      border-top-color: var(--fill-color);\n",
              "    }\n",
              "    30% {\n",
              "      border-color: transparent;\n",
              "      border-left-color: var(--fill-color);\n",
              "      border-top-color: var(--fill-color);\n",
              "      border-right-color: var(--fill-color);\n",
              "    }\n",
              "    40% {\n",
              "      border-color: transparent;\n",
              "      border-right-color: var(--fill-color);\n",
              "      border-top-color: var(--fill-color);\n",
              "    }\n",
              "    60% {\n",
              "      border-color: transparent;\n",
              "      border-right-color: var(--fill-color);\n",
              "    }\n",
              "    80% {\n",
              "      border-color: transparent;\n",
              "      border-right-color: var(--fill-color);\n",
              "      border-bottom-color: var(--fill-color);\n",
              "    }\n",
              "    90% {\n",
              "      border-color: transparent;\n",
              "      border-bottom-color: var(--fill-color);\n",
              "    }\n",
              "  }\n",
              "</style>\n",
              "\n",
              "  <script>\n",
              "    async function quickchart(key) {\n",
              "      const quickchartButtonEl =\n",
              "        document.querySelector('#' + key + ' button');\n",
              "      quickchartButtonEl.disabled = true;  // To prevent multiple clicks.\n",
              "      quickchartButtonEl.classList.add('colab-df-spinner');\n",
              "      try {\n",
              "        const charts = await google.colab.kernel.invokeFunction(\n",
              "            'suggestCharts', [key], {});\n",
              "      } catch (error) {\n",
              "        console.error('Error during call to suggestCharts:', error);\n",
              "      }\n",
              "      quickchartButtonEl.classList.remove('colab-df-spinner');\n",
              "      quickchartButtonEl.classList.add('colab-df-quickchart-complete');\n",
              "    }\n",
              "    (() => {\n",
              "      let quickchartButtonEl =\n",
              "        document.querySelector('#df-692c8bd9-8ec0-4c1d-a025-acdcb8c9cad4 button');\n",
              "      quickchartButtonEl.style.display =\n",
              "        google.colab.kernel.accessAllowed ? 'block' : 'none';\n",
              "    })();\n",
              "  </script>\n",
              "</div>\n",
              "\n",
              "  <div id=\"id_9fe3c6a7-ac01-4c2f-945b-0e6a98653ead\">\n",
              "    <style>\n",
              "      .colab-df-generate {\n",
              "        background-color: #E8F0FE;\n",
              "        border: none;\n",
              "        border-radius: 50%;\n",
              "        cursor: pointer;\n",
              "        display: none;\n",
              "        fill: #1967D2;\n",
              "        height: 32px;\n",
              "        padding: 0 0 0 0;\n",
              "        width: 32px;\n",
              "      }\n",
              "\n",
              "      .colab-df-generate:hover {\n",
              "        background-color: #E2EBFA;\n",
              "        box-shadow: 0px 1px 2px rgba(60, 64, 67, 0.3), 0px 1px 3px 1px rgba(60, 64, 67, 0.15);\n",
              "        fill: #174EA6;\n",
              "      }\n",
              "\n",
              "      [theme=dark] .colab-df-generate {\n",
              "        background-color: #3B4455;\n",
              "        fill: #D2E3FC;\n",
              "      }\n",
              "\n",
              "      [theme=dark] .colab-df-generate:hover {\n",
              "        background-color: #434B5C;\n",
              "        box-shadow: 0px 1px 3px 1px rgba(0, 0, 0, 0.15);\n",
              "        filter: drop-shadow(0px 1px 2px rgba(0, 0, 0, 0.3));\n",
              "        fill: #FFFFFF;\n",
              "      }\n",
              "    </style>\n",
              "    <button class=\"colab-df-generate\" onclick=\"generateWithVariable('df_estudo_1')\"\n",
              "            title=\"Generate code using this dataframe.\"\n",
              "            style=\"display:none;\">\n",
              "\n",
              "  <svg xmlns=\"http://www.w3.org/2000/svg\" height=\"24px\"viewBox=\"0 0 24 24\"\n",
              "       width=\"24px\">\n",
              "    <path d=\"M7,19H8.4L18.45,9,17,7.55,7,17.6ZM5,21V16.75L18.45,3.32a2,2,0,0,1,2.83,0l1.4,1.43a1.91,1.91,0,0,1,.58,1.4,1.91,1.91,0,0,1-.58,1.4L9.25,21ZM18.45,9,17,7.55Zm-12,3A5.31,5.31,0,0,0,4.9,8.1,5.31,5.31,0,0,0,1,6.5,5.31,5.31,0,0,0,4.9,4.9,5.31,5.31,0,0,0,6.5,1,5.31,5.31,0,0,0,8.1,4.9,5.31,5.31,0,0,0,12,6.5,5.46,5.46,0,0,0,6.5,12Z\"/>\n",
              "  </svg>\n",
              "    </button>\n",
              "    <script>\n",
              "      (() => {\n",
              "      const buttonEl =\n",
              "        document.querySelector('#id_9fe3c6a7-ac01-4c2f-945b-0e6a98653ead button.colab-df-generate');\n",
              "      buttonEl.style.display =\n",
              "        google.colab.kernel.accessAllowed ? 'block' : 'none';\n",
              "\n",
              "      buttonEl.onclick = () => {\n",
              "        google.colab.notebook.generateWithVariable('df_estudo_1');\n",
              "      }\n",
              "      })();\n",
              "    </script>\n",
              "  </div>\n",
              "\n",
              "    </div>\n",
              "  </div>\n"
            ],
            "application/vnd.google.colaboratory.intrinsic+json": {
              "type": "dataframe",
              "variable_name": "df_estudo_1",
              "summary": "{\n  \"name\": \"df_estudo_1\",\n  \"rows\": 10,\n  \"fields\": [\n    {\n      \"column\": \"preco\",\n      \"properties\": {\n        \"dtype\": \"number\",\n        \"std\": 23,\n        \"min\": 38,\n        \"max\": 110,\n        \"num_unique_values\": 10,\n        \"samples\": [\n          95,\n          42,\n          63\n        ],\n        \"semantic_type\": \"\",\n        \"description\": \"\"\n      }\n    },\n    {\n      \"column\": \"demanda\",\n      \"properties\": {\n        \"dtype\": \"number\",\n        \"std\": 47,\n        \"min\": 208,\n        \"max\": 350,\n        \"num_unique_values\": 10,\n        \"samples\": [\n          215,\n          325,\n          246\n        ],\n        \"semantic_type\": \"\",\n        \"description\": \"\"\n      }\n    },\n    {\n      \"column\": \"previsao\",\n      \"properties\": {\n        \"dtype\": \"number\",\n        \"std\": 41.58378423269233,\n        \"min\": 181.0,\n        \"max\": 311.0,\n        \"num_unique_values\": 10,\n        \"samples\": [\n          208.0,\n          304.0,\n          266.0\n        ],\n        \"semantic_type\": \"\",\n        \"description\": \"\"\n      }\n    },\n    {\n      \"column\": \"erro\",\n      \"properties\": {\n        \"dtype\": \"number\",\n        \"std\": 9.891073416638527,\n        \"min\": 7.0,\n        \"max\": 39.0,\n        \"num_unique_values\": 10,\n        \"samples\": [\n          7.0,\n          21.0,\n          20.0\n        ],\n        \"semantic_type\": \"\",\n        \"description\": \"\"\n      }\n    }\n  ]\n}"
            }
          },
          "metadata": {},
          "execution_count": 27
        }
      ]
    },
    {
      "cell_type": "markdown",
      "source": [],
      "metadata": {
        "id": "HNdOffJKmnkg"
      }
    },
    {
      "cell_type": "markdown",
      "source": [
        "Equação da reta:"
      ],
      "metadata": {
        "id": "DPH3gbu7gc8o"
      }
    },
    {
      "cell_type": "markdown",
      "source": [
        "![image.png](data:image/png;base64,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)"
      ],
      "metadata": {
        "id": "pbai0UEmijUE"
      }
    },
    {
      "cell_type": "code",
      "source": [
        "round(regressor.intercept_ )"
      ],
      "metadata": {
        "id": "KMXDGjYwimhF"
      },
      "execution_count": null,
      "outputs": []
    },
    {
      "cell_type": "code",
      "source": [
        "regressor.coef_"
      ],
      "metadata": {
        "id": "nVMJMVg-i2me"
      },
      "execution_count": null,
      "outputs": []
    },
    {
      "cell_type": "code",
      "source": [
        "regressor.predict([[38]])"
      ],
      "metadata": {
        "id": "M7MIaJSXjmOg"
      },
      "execution_count": null,
      "outputs": []
    },
    {
      "cell_type": "code",
      "source": [
        "380-1.8*38"
      ],
      "metadata": {
        "id": "k2h0JvZ5jrGg"
      },
      "execution_count": null,
      "outputs": []
    },
    {
      "cell_type": "code",
      "source": [
        "# Avaliar o desempenho do modelo nos dados de teste\n",
        "mse = round(mean_squared_error(y_test, previsoes), 2)\n",
        "r2 = round(r2_score(y_test, previsoes), 2)\n",
        "\n",
        "# Exibir as métricas\n",
        "print(\"MSE:\", mse)\n",
        "print(\"R²:\", r2)"
      ],
      "metadata": {
        "id": "Xe-Fv9lWj5XN"
      },
      "execution_count": null,
      "outputs": []
    },
    {
      "cell_type": "code",
      "source": [
        "plt.scatter(df_estudo_1['previsao'], df_estudo_1['erro'])\n",
        "\n",
        "# Adicione uma linha horizontal em zero para referência\n",
        "plt.axhline(y=0, color='r', linestyle='--')\n",
        "\n",
        "# Adicione rótulos aos eixos\n",
        "plt.xlabel('Valores previstos')\n",
        "plt.ylabel('Resíduos')\n",
        "\n",
        "# Exiba o gráfico\n",
        "plt.show()"
      ],
      "metadata": {
        "id": "sjqADKefklj4"
      },
      "execution_count": null,
      "outputs": []
    },
    {
      "cell_type": "markdown",
      "source": [
        "##Modelo de Regressão Polinomial"
      ],
      "metadata": {
        "id": "CulRFboCpcxm"
      }
    },
    {
      "cell_type": "markdown",
      "source": [
        "###PolynomialFeatures\n",
        "\n",
        "A função `PolynomialFeatures()` é uma ferramenta do scikit-learn que permite criar recursos polinomiais a partir de um conjunto de recursos existente. Ela transforma um conjunto de recursos de grau n em um conjunto de recursos de grau m, onde m é o grau polinomial desejado.\n",
        "\n",
        "A matriz `X_poly` terá uma coluna para cada combinação de graus das variáveis independentes. Por exemplo, se tivermos duas variáveis independentes `X1` e `X2` e definirmos `degree=2` ao criar o objeto poly, a matriz `` terá as seguintes colunas:\n",
        "\n",
        "\n",
        "*   `coluna 1` será a coluna de interceptação, contendo apenas o valor 1 para todos os registros.\n",
        "*   `coluna 2` será a coluna original X1\n",
        "* `coluna 3` será a coluna original X2.\n",
        "* `coluna 4` será o produto das colunas X1 e X2.\n",
        "* `coluna 5` será o quadrado da coluna X1.\n",
        "* `coluna 6` será o quadrado da coluna X2.\n"
      ],
      "metadata": {
        "id": "bqK7hxqxp4Rx"
      }
    },
    {
      "cell_type": "code",
      "source": [
        "from sklearn.preprocessing import PolynomialFeatures\n",
        "\n",
        "poly = PolynomialFeatures(degree = 3)"
      ],
      "metadata": {
        "id": "vz9l5vEsrUjS"
      },
      "execution_count": null,
      "outputs": []
    },
    {
      "cell_type": "code",
      "source": [
        "X_train = X_train.reshape(-1, 1)\n",
        "\n",
        "X_train_poli = poly.fit_transform(X_train)\n",
        "\n",
        "X_train_poli"
      ],
      "metadata": {
        "id": "DATPhHc-rcny"
      },
      "execution_count": null,
      "outputs": []
    },
    {
      "cell_type": "code",
      "source": [
        "X_test"
      ],
      "metadata": {
        "id": "MxYGV0FE8Zje"
      },
      "execution_count": null,
      "outputs": []
    },
    {
      "cell_type": "code",
      "source": [
        "X_test_ = X_test.reshape(-1, 1)\n",
        "\n",
        "X_test_poli = poly.fit_transform(X_test_)"
      ],
      "metadata": {
        "id": "mo8kZKgD5oXd"
      },
      "execution_count": null,
      "outputs": []
    },
    {
      "cell_type": "code",
      "source": [
        "X_train_poli = poly.fit_transform(X_train)\n",
        "\n",
        "X_train_poli"
      ],
      "metadata": {
        "id": "8RmXymzYsWkg"
      },
      "execution_count": null,
      "outputs": []
    },
    {
      "cell_type": "code",
      "source": [
        "reg_poli = regressor.fit(X_train_poli, y_train)\n",
        "\n",
        "reg_poli"
      ],
      "metadata": {
        "id": "M6_VFgGfs4Ox"
      },
      "execution_count": null,
      "outputs": []
    },
    {
      "cell_type": "code",
      "source": [
        "previsoes_poly = regressor.predict(X_test_poli)\n",
        "\n",
        "previsoes_poly"
      ],
      "metadata": {
        "id": "DbUtgdoUvV2M"
      },
      "execution_count": null,
      "outputs": []
    },
    {
      "cell_type": "code",
      "source": [
        "df_estudo_1['previsao_poly'] = reg_poli.predict(X_demanda)\n",
        "\n",
        "df_estudo_1['erro_poly'] = abs(df_estudo_1['previsao_poly'] - df_estudo_1['demanda'])\n",
        "\n",
        "df_estudo_1 = df_estudo_1.round()\n",
        "\n",
        "df_estudo_1"
      ],
      "metadata": {
        "id": "6QdC8jwqwMNo"
      },
      "execution_count": null,
      "outputs": []
    },
    {
      "cell_type": "code",
      "source": [
        "X_poli = poly.fit_transform(X_demanda)\n",
        "\n",
        "X_poli"
      ],
      "metadata": {
        "id": "E55tplwy6KVh"
      },
      "execution_count": null,
      "outputs": []
    },
    {
      "cell_type": "code",
      "source": [
        "df_estudo_1['previsao_poly'] = reg_poli.predict(X_poli)\n",
        "\n",
        "df_estudo_1['erro_poly'] = abs(df_estudo_1['previsao_poly'] - df_estudo_1['demanda'])\n",
        "\n",
        "df_estudo_1 = df_estudo_1.round()\n",
        "\n",
        "df_estudo_1"
      ],
      "metadata": {
        "id": "oLd8CN_Q6SHU"
      },
      "execution_count": null,
      "outputs": []
    },
    {
      "cell_type": "code",
      "source": [
        "grafico = px.scatter(x = df_estudo_1['preco'], y = df_estudo_1['demanda'])\n",
        "grafico.add_scatter(x = df_estudo_1['preco'], y = df_estudo_1['previsao_poly'], name = 'Regressão Polinomial')\n",
        "grafico.show()"
      ],
      "metadata": {
        "id": "aWVGeJChvkBP"
      },
      "execution_count": null,
      "outputs": []
    },
    {
      "cell_type": "code",
      "source": [
        "plt.scatter(df_estudo_1['previsao_poly'], df_estudo_1['erro_poly'])\n",
        "\n",
        "# Adicione uma linha horizontal em zero para referência\n",
        "plt.axhline(y=0, color='r', linestyle='--')\n",
        "\n",
        "# Adicione rótulos aos eixos\n",
        "plt.xlabel('Valores previstos')\n",
        "plt.ylabel('Resíduos')\n",
        "\n",
        "# Exiba o gráfico\n",
        "plt.show()"
      ],
      "metadata": {
        "id": "FRVy4M88xeTI"
      },
      "execution_count": null,
      "outputs": []
    },
    {
      "cell_type": "code",
      "source": [
        "# Calcule as métricas de avaliação\n",
        "mae = round( mean_absolute_error(df_estudo_1['demanda'], df_estudo_1['previsao_poly']), 2)\n",
        "mse = round(mean_squared_error(df_estudo_1['demanda'], df_estudo_1['previsao_poly']), 2)\n",
        "rmse = round(np.sqrt(mse), 2)\n",
        "r2 = round(r2_score(df_estudo_1['demanda'], df_estudo_1['previsao_poly']), 3)\n",
        "\n",
        "# Exiba as métricas\n",
        "print(\"MAE:\", mae)\n",
        "print(\"MSE:\", mse)\n",
        "print(\"RMSE:\", rmse)\n",
        "print(\"R²:\", r2)"
      ],
      "metadata": {
        "id": "kQ2bMKU-zMIc"
      },
      "execution_count": null,
      "outputs": []
    },
    {
      "cell_type": "markdown",
      "source": [
        "#Estudo de caso 2"
      ],
      "metadata": {
        "id": "1fj1TbF6y-R-"
      }
    },
    {
      "cell_type": "markdown",
      "source": [
        "##Gráfico de dispersão"
      ],
      "metadata": {
        "id": "njvPsDgn030G"
      }
    },
    {
      "cell_type": "code",
      "source": [
        "plt.scatter( df_estudo_2['preco'],df_estudo_2['demanda'], label='Demanda')\n",
        "plt.scatter( df_estudo_2['preco'],df_estudo_2['Publicidade'], label='Publicidade')\n",
        "plt.scatter(df_estudo_2['preco'], df_estudo_2['Competidores'],  label='Competidores')\n",
        "plt.xlabel('Variáveis')\n",
        "plt.ylabel('Preço')\n",
        "plt.title('Gráfico de Dispersão')\n",
        "plt.legend()\n",
        "plt.show()"
      ],
      "metadata": {
        "id": "8hrIK6OI03EO"
      },
      "execution_count": null,
      "outputs": []
    },
    {
      "cell_type": "markdown",
      "source": [
        "##Analisando correlação"
      ],
      "metadata": {
        "id": "1FlTfcnw1-Nl"
      }
    },
    {
      "cell_type": "code",
      "source": [
        "correlacao_2 = df_estudo_2.corr()\n",
        "\n",
        "correlacao_2"
      ],
      "metadata": {
        "id": "Xs1nyxuO1Gc2"
      },
      "execution_count": null,
      "outputs": []
    },
    {
      "cell_type": "markdown",
      "source": [],
      "metadata": {
        "id": "oFw_hOy74Dxs"
      }
    },
    {
      "cell_type": "markdown",
      "source": [],
      "metadata": {
        "id": "QjVq-dx-3i4X"
      }
    },
    {
      "cell_type": "markdown",
      "source": [
        "##Determinando o melhor ajuste"
      ],
      "metadata": {
        "id": "wYwJmsuI16VT"
      }
    },
    {
      "cell_type": "code",
      "source": [
        "# Separando as variáveis independentes (demanda, Publicidade e Competidores) e a variável dependente (preco)\n",
        "X = df_estudo_2[['demanda', 'Publicidade', 'Competidores']]\n",
        "y = df_estudo_2['preco']\n",
        "\n",
        "X_train, X_test, y_train, y_test = train_test_split(X.values, y.values, test_size=0.2, random_state=42)\n",
        "\n",
        "# Criando o modelo de regressão linear\n",
        "modelo = LinearRegression()\n",
        "modelo.fit(X_train, y_train)\n",
        "\n",
        "# Obtendo os coeficientes e o intercepto da reta ajustada\n",
        "coeficientes = modelo.coef_\n",
        "intercepto = modelo.intercept_"
      ],
      "metadata": {
        "id": "gJn-Tvfo2iZf"
      },
      "execution_count": null,
      "outputs": []
    },
    {
      "cell_type": "code",
      "source": [
        "y_pred = modelo.predict(X_test)"
      ],
      "metadata": {
        "id": "UQygvKSd0yOi"
      },
      "execution_count": null,
      "outputs": []
    },
    {
      "cell_type": "code",
      "source": [
        "# Calcule o erro médio quadrático (MSE)\n",
        "mse = round(mean_squared_error(y_test, y_pred), 2)\n",
        "r2 = round(r2_score(y_test, y_pred),2)\n",
        "\n",
        "# Exibir as métricas\n",
        "print(\"MSE:\", mse)\n",
        "print(\"R²:\", r2)"
      ],
      "metadata": {
        "id": "RDniKH1Y0vJq"
      },
      "execution_count": null,
      "outputs": []
    },
    {
      "cell_type": "code",
      "source": [
        "# Criando a função da reta ajustada\n",
        "reta = lambda x: coeficientes[0]*x[0] + coeficientes[1]*x[1] + coeficientes[2]*x[2] + intercepto\n",
        "\n",
        "# Plotando o gráfico de dispersão e a reta ajustada\n",
        "fig = plt.figure()\n",
        "ax = fig.add_subplot(111, projection='3d')\n",
        "ax.scatter(df_estudo_2['demanda'], df_estudo_2['Publicidade'], df_estudo_2['Competidores'], c='blue', label='Dados')\n",
        "ax.set_xlabel('Demanda')\n",
        "ax.set_ylabel('Publicidade')\n",
        "ax.set_zlabel('Competidores')\n",
        "ax.set_title('Gráfico de Dispersão e Reta Ajustada')\n",
        "ax.plot_trisurf(df_estudo_2['demanda'], df_estudo_2['Publicidade'], df_estudo_2['Competidores'], reta([df_estudo_2['demanda'], df_estudo_2['Publicidade'], df_estudo_2['Competidores']]), color='red', alpha=0.5, label='Reta Ajustada')\n",
        "plt.show()"
      ],
      "metadata": {
        "id": "s64KdMPH2uCE"
      },
      "execution_count": null,
      "outputs": []
    }
  ]
}